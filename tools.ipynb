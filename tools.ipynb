{
  "nbformat": 4,
  "nbformat_minor": 0,
  "metadata": {
    "colab": {
      "provenance": [],
      "authorship_tag": "ABX9TyMdhrfdF4N4LRq3QWMBqUL2",
      "include_colab_link": true
    },
    "kernelspec": {
      "name": "python3",
      "display_name": "Python 3"
    },
    "language_info": {
      "name": "python"
    }
  },
  "cells": [
    {
      "cell_type": "markdown",
      "metadata": {
        "id": "view-in-github",
        "colab_type": "text"
      },
      "source": [
        "<a href=\"https://colab.research.google.com/github/noumantechie/langchain/blob/main/tools.ipynb\" target=\"_parent\"><img src=\"https://colab.research.google.com/assets/colab-badge.svg\" alt=\"Open In Colab\"/></a>"
      ]
    },
    {
      "cell_type": "markdown",
      "source": [
        "# TOOLS VS RAG\n",
        "RAG primiarily focus on agumenting the prompt through context retrieved\n",
        "from an external source like a database.\n",
        "But Tools enable application to interact with external systems that supplement the context with real-time data.And they also bring in complex processing capability.\n",
        "\n",
        "# Major Difference\n",
        "RAG is typically used for accessing data that is pre-processed and indexed. Whereas Tools provide access to real-time information."
      ],
      "metadata": {
        "id": "88wcXq19Teaj"
      }
    },
    {
      "cell_type": "markdown",
      "source": [
        "\n",
        "\n",
        "---\n",
        "\n"
      ],
      "metadata": {
        "id": "rHa4PHKpT956"
      }
    },
    {
      "cell_type": "markdown",
      "source": [
        "**1- Wikipedia Tool**"
      ],
      "metadata": {
        "id": "52CYiwO7UHf7"
      }
    },
    {
      "cell_type": "code",
      "source": [
        "!pip install langchain-community wikipedia\n"
      ],
      "metadata": {
        "id": "IO1t96bIU11c"
      },
      "execution_count": null,
      "outputs": []
    },
    {
      "cell_type": "code",
      "source": [
        "from langchain_community.tools import WikipediaQueryRun\n",
        "from langchain_community.utilities import WikipediaAPIWrapper"
      ],
      "metadata": {
        "id": "GQ8SQ0XsUTdg"
      },
      "execution_count": 6,
      "outputs": []
    },
    {
      "cell_type": "code",
      "source": [
        "api_wrapper = WikipediaAPIWrapper(top_k_results=1 , doc_content_chars_max=1000)\n",
        "tool = WikipediaQueryRun(api_wrapper=api_wrapper)"
      ],
      "metadata": {
        "id": "4DGyBD2eVDwI"
      },
      "execution_count": 7,
      "outputs": []
    },
    {
      "cell_type": "code",
      "source": [
        "print(tool.name)\n",
        "print(tool.description)\n",
        "print(tool.args)"
      ],
      "metadata": {
        "colab": {
          "base_uri": "https://localhost:8080/"
        },
        "id": "dWJDtujMVSNH",
        "outputId": "0ce44baf-c18a-46f9-f36e-8dd2cc777479"
      },
      "execution_count": 8,
      "outputs": [
        {
          "output_type": "stream",
          "name": "stdout",
          "text": [
            "wikipedia\n",
            "A wrapper around Wikipedia. Useful for when you need to answer general questions about people, places, companies, facts, historical events, or other subjects. Input should be a search query.\n",
            "{'query': {'description': 'query to look up on wikipedia', 'title': 'Query', 'type': 'string'}}\n"
          ]
        }
      ]
    },
    {
      "cell_type": "code",
      "source": [
        "result = tool.run({\"query\": \"Neural Network\"})"
      ],
      "metadata": {
        "id": "ZkmdOHKnVu9W"
      },
      "execution_count": 9,
      "outputs": []
    },
    {
      "cell_type": "code",
      "source": [
        "print(result)"
      ],
      "metadata": {
        "colab": {
          "base_uri": "https://localhost:8080/"
        },
        "id": "OIHy6zRWV6Y_",
        "outputId": "b224a316-48f1-4d4f-f53f-17a8e64d0b60"
      },
      "execution_count": 10,
      "outputs": [
        {
          "output_type": "stream",
          "name": "stdout",
          "text": [
            "Page: Neural network (machine learning)\n",
            "Summary: In machine learning, a neural network (also artificial neural network or neural net, abbreviated ANN or NN) is a model inspired by the structure and function of biological neural networks in animal brains.\n",
            "An ANN consists of connected units or nodes called artificial neurons, which loosely model the neurons in the brain. Artificial neuron models that mimic biological neurons more closely have also been recently investigated and shown to significantly improve performance. These are connected by edges, which model the synapses in the brain. Each artificial neuron receives signals from connected neurons, then processes them and sends a signal to other connected neurons. The \"signal\" is a real number, and the output of each neuron is computed by some non-linear function of the sum of its inputs, called the activation function. The strength of the signal at each connection is determined by a weight, which adjusts during the learning process.\n",
            "\n"
          ]
        }
      ]
    },
    {
      "cell_type": "markdown",
      "source": [
        "**2- TAVILY TOOL**"
      ],
      "metadata": {
        "id": "QYFdgjmMX59R"
      }
    },
    {
      "cell_type": "code",
      "source": [
        "%pip install -qU langchain-community tavily-python"
      ],
      "metadata": {
        "colab": {
          "base_uri": "https://localhost:8080/"
        },
        "id": "S1xeG3Kvd_Ys",
        "outputId": "eb9f1b4f-a057-4329-fb8d-90e41eabdf37"
      },
      "execution_count": 2,
      "outputs": [
        {
          "output_type": "stream",
          "name": "stdout",
          "text": [
            "\u001b[2K     \u001b[90m━━━━━━━━━━━━━━━━━━━━━━━━━━━━━━━━━━━━━━━━\u001b[0m \u001b[32m91.0/91.0 kB\u001b[0m \u001b[31m2.1 MB/s\u001b[0m eta \u001b[36m0:00:00\u001b[0m\n",
            "\u001b[2K   \u001b[90m━━━━━━━━━━━━━━━━━━━━━━━━━━━━━━━━━━━━━━━━\u001b[0m \u001b[32m2.5/2.5 MB\u001b[0m \u001b[31m29.0 MB/s\u001b[0m eta \u001b[36m0:00:00\u001b[0m\n",
            "\u001b[2K   \u001b[90m━━━━━━━━━━━━━━━━━━━━━━━━━━━━━━━━━━━━━━━━\u001b[0m \u001b[32m43.8/43.8 kB\u001b[0m \u001b[31m4.2 MB/s\u001b[0m eta \u001b[36m0:00:00\u001b[0m\n",
            "\u001b[2K   \u001b[90m━━━━━━━━━━━━━━━━━━━━━━━━━━━━━━━━━━━━━━━━\u001b[0m \u001b[32m1.2/1.2 MB\u001b[0m \u001b[31m62.6 MB/s\u001b[0m eta \u001b[36m0:00:00\u001b[0m\n",
            "\u001b[2K   \u001b[90m━━━━━━━━━━━━━━━━━━━━━━━━━━━━━━━━━━━━━━━━\u001b[0m \u001b[32m50.9/50.9 kB\u001b[0m \u001b[31m5.2 MB/s\u001b[0m eta \u001b[36m0:00:00\u001b[0m\n",
            "\u001b[?25h"
          ]
        }
      ]
    },
    {
      "cell_type": "code",
      "source": [
        "from langchain_community.tools import TavilySearchResults\n"
      ],
      "metadata": {
        "id": "79kl235jffY7"
      },
      "execution_count": 3,
      "outputs": []
    },
    {
      "cell_type": "code",
      "source": [
        "import os\n",
        "os.environ[\"TAVILY_API_KEY\"] = \"TAVILY_API_KEY\"  # replace with your actual key\n",
        "\n"
      ],
      "metadata": {
        "id": "ptJulVnUeNCd"
      },
      "execution_count": 25,
      "outputs": []
    },
    {
      "cell_type": "code",
      "source": [
        "tool = TavilySearchResults()\n"
      ],
      "metadata": {
        "id": "vKKjtFDYfK7O"
      },
      "execution_count": 24,
      "outputs": []
    },
    {
      "cell_type": "code",
      "source": [
        "response = tool.invoke({\"query\": \"when is icc men's T20 World Cup 205 starting ?\"})"
      ],
      "metadata": {
        "id": "ZOf1r52cgbQK"
      },
      "execution_count": 27,
      "outputs": []
    },
    {
      "cell_type": "code",
      "source": [
        "response"
      ],
      "metadata": {
        "colab": {
          "base_uri": "https://localhost:8080/"
        },
        "id": "zvd_lX5Wgwcg",
        "outputId": "d23e7344-3325-412f-df1b-11b8bf188689"
      },
      "execution_count": 28,
      "outputs": [
        {
          "output_type": "execute_result",
          "data": {
            "text/plain": [
              "[{'url': 'https://www.visitlauderdale.com/cricket-world-cup/',\n",
              "  'content': \"Inclusion & Accessibility Things To Do Events Restaurants Nightlife Places to Stay Things To Do\\ufeff Broward County Stadium Broward County Stadium in Lauderhill is one of three United States sites chosen to host the 2024 ICC Men's T20 World Cup. This is the first time the T20 World Cup will be held in the United States. The matches start in Broward County on Tuesday, June 11 with Sri Lanka vs. Ireland, continue\\xa0on Saturday, June 15 with India vs. Broward County Stadium was the first ICC-sanctioned stadium in the U.S. Broward County Stadium Things To Do Broward County Stadium and Nearby Hotels E-Newsletter Sign-Up -------------------- Stay In-The-Know Broward County By continuing to use our site you agree to our privacy policy.\"},\n",
              " {'url': 'https://www.hindustantimes.com/cricket/t20-world-cup/schedule',\n",
              "  'content': 'T20 World Cup Schedule 2024: The 2024 T20 World Cup schedule is halfway through with the Super 8 stage set to begin from June 19, followed by the semifinals'},\n",
              " {'url': 'https://www.cricket.com.au/matches/series/CA:2510',\n",
              "  'content': \"ICC Men's T20 World Cup 2024. 02 Jun 2024 - 30 Jun 2024. Matches; Standings\"},\n",
              " {'url': 'https://www.youtube.com/watch?v=W3V3dy98KuQ',\n",
              "  'content': 'year edition will be co-hosted by West Indies and the United States starting ... CBN News New 205K views · 45:57. Go to channel · How Do They'},\n",
              " {'url': 'https://www.icc-cricket.com/news/fixtures-revealed-for-historic-icc-men-s-t20-world-cup-2024-in-west-indies-and-the-usa',\n",
              "  'content': \"Dallas to host ICC Men's T20 World Cup 2024 opener between the USA and Canada on Saturday 1 June; Co-hosts the West Indies to play group\"}]"
            ]
          },
          "metadata": {},
          "execution_count": 28
        }
      ]
    },
    {
      "cell_type": "code",
      "source": [
        "len(response)"
      ],
      "metadata": {
        "colab": {
          "base_uri": "https://localhost:8080/"
        },
        "id": "T8LAyOEsgx41",
        "outputId": "01437c69-1527-48f6-ab8f-ca344687de2d"
      },
      "execution_count": 29,
      "outputs": [
        {
          "output_type": "execute_result",
          "data": {
            "text/plain": [
              "5"
            ]
          },
          "metadata": {},
          "execution_count": 29
        }
      ]
    },
    {
      "cell_type": "code",
      "source": [
        "response[0]['url']"
      ],
      "metadata": {
        "colab": {
          "base_uri": "https://localhost:8080/",
          "height": 36
        },
        "id": "TRYmwJagg0sb",
        "outputId": "663c786f-78eb-4dc5-8c7e-c9c3d9f793fe"
      },
      "execution_count": 30,
      "outputs": [
        {
          "output_type": "execute_result",
          "data": {
            "text/plain": [
              "'https://www.visitlauderdale.com/cricket-world-cup/'"
            ],
            "application/vnd.google.colaboratory.intrinsic+json": {
              "type": "string"
            }
          },
          "metadata": {},
          "execution_count": 30
        }
      ]
    },
    {
      "cell_type": "code",
      "source": [
        "response[0]['content']"
      ],
      "metadata": {
        "colab": {
          "base_uri": "https://localhost:8080/",
          "height": 105
        },
        "id": "wx8Bq1wyg5JI",
        "outputId": "7099b65b-3f1f-4314-abb5-8e2f4b6b0470"
      },
      "execution_count": 31,
      "outputs": [
        {
          "output_type": "execute_result",
          "data": {
            "text/plain": [
              "\"Inclusion & Accessibility Things To Do Events Restaurants Nightlife Places to Stay Things To Do\\ufeff Broward County Stadium Broward County Stadium in Lauderhill is one of three United States sites chosen to host the 2024 ICC Men's T20 World Cup. This is the first time the T20 World Cup will be held in the United States. The matches start in Broward County on Tuesday, June 11 with Sri Lanka vs. Ireland, continue\\xa0on Saturday, June 15 with India vs. Broward County Stadium was the first ICC-sanctioned stadium in the U.S. Broward County Stadium Things To Do Broward County Stadium and Nearby Hotels E-Newsletter Sign-Up -------------------- Stay In-The-Know Broward County By continuing to use our site you agree to our privacy policy.\""
            ],
            "application/vnd.google.colaboratory.intrinsic+json": {
              "type": "string"
            }
          },
          "metadata": {},
          "execution_count": 31
        }
      ]
    },
    {
      "cell_type": "markdown",
      "source": [
        "**3- YahooFinanceNewsTool**"
      ],
      "metadata": {
        "id": "ND0MdLppakts"
      }
    },
    {
      "cell_type": "code",
      "source": [
        "%pip install -qU langchain-community yfinance langchain_google_genai"
      ],
      "metadata": {
        "colab": {
          "base_uri": "https://localhost:8080/"
        },
        "id": "nJZEcw5XYNox",
        "outputId": "9975f51c-6a70-4775-faeb-87185736535e"
      },
      "execution_count": 5,
      "outputs": [
        {
          "output_type": "stream",
          "name": "stdout",
          "text": [
            "\u001b[?25l   \u001b[90m━━━━━━━━━━━━━━━━━━━━━━━━━━━━━━━━━━━━━━━━\u001b[0m \u001b[32m0.0/41.7 kB\u001b[0m \u001b[31m?\u001b[0m eta \u001b[36m-:--:--\u001b[0m\r\u001b[2K   \u001b[90m━━━━━━━━━━━━━━━━━━━━━━━━━━━━━━━━━━━━━━━━\u001b[0m \u001b[32m41.7/41.7 kB\u001b[0m \u001b[31m1.5 MB/s\u001b[0m eta \u001b[36m0:00:00\u001b[0m\n",
            "\u001b[?25h"
          ]
        }
      ]
    },
    {
      "cell_type": "code",
      "source": [
        "from langchain_community.tools.yahoo_finance_news import YahooFinanceNewsTool\n",
        "from langchain_google_genai import ChatGoogleGenerativeAI\n",
        "import os\n"
      ],
      "metadata": {
        "id": "OPaY3-fRZTOG"
      },
      "execution_count": 7,
      "outputs": []
    },
    {
      "cell_type": "code",
      "source": [
        "from google.colab import userdata\n",
        "GOOGLE_API_KEY = userdata.get('GOOGLE_API_KEY')\n",
        "\n",
        "llm = ChatGoogleGenerativeAI(\n",
        "    model=\"gemini-1.5-flash\",\n",
        "    api_key=GOOGLE_API_KEY  # Corrected 'api_ket' to 'api_key'\n",
        ")\n",
        ""
      ],
      "metadata": {
        "id": "igdRVfXfZRTJ"
      },
      "execution_count": 8,
      "outputs": []
    },
    {
      "cell_type": "code",
      "source": [
        "tool = YahooFinanceNewsTool()"
      ],
      "metadata": {
        "id": "zIE5C0T5ZqN9"
      },
      "execution_count": 9,
      "outputs": []
    },
    {
      "cell_type": "code",
      "source": [
        "res = tool.run(\"AAPL\")"
      ],
      "metadata": {
        "id": "jw98q6wiZvLo"
      },
      "execution_count": 13,
      "outputs": []
    },
    {
      "cell_type": "code",
      "source": [
        "print(res)"
      ],
      "metadata": {
        "colab": {
          "base_uri": "https://localhost:8080/"
        },
        "id": "bLtACE3VZ0pk",
        "outputId": "38cf7ad5-7785-46a1-9640-0adab5808f1c"
      },
      "execution_count": 14,
      "outputs": [
        {
          "output_type": "stream",
          "name": "stdout",
          "text": [
            "Apple Inc. (AAPL): Among the Best Forever Stocks to Buy Right Now\n",
            "We recently compiled a list of the 13 Best Forever Stocks to Buy Right Now. In this article, we are going to take a look at where Apple Inc. (NASDAQ:AAPL) stands against the other forever stocks. State of The Market in The Wake of The CPI Report The first month of 2025 was an interesting one, […]\n",
            "\n",
            "Netflix to finally support Apple TV app, Verge reports\n",
            "Certain Apple TV (AAPL) 4K users in the U.S. are being prompted to link their Netflix (NFLX) accounts to the Apple TV app, in what seems to signal an end to Netflix‚Äôs longtime refusal to have its content aggregated into third-party platforms, The Verge‚Äôs Jess Weatherbed reports. Subscribers who connect their accounts are able to add certain Netflix originals, including ‚ÄúSquid Game‚Äù and ‚ÄúStranger Things,‚Äù to their Apple TV app watchlist, the author notes. It has also been verified that Netflix is\n",
            "\n",
            "Top Stock Reports for Apple, Eli Lilly & Shopify\n",
            "Today's Research Daily features new research reports on 16 major stocks, including Apple Inc. (AAPL), Eli Lilly and Company (LLY) and Shopify Inc. (SHOP), as well as a micro-cap stock ImmuCell Corporation (ICCC).\n"
          ]
        }
      ]
    },
    {
      "cell_type": "markdown",
      "source": [
        "**4- Building a Custome Tool**"
      ],
      "metadata": {
        "id": "X6ZJhA1hco7j"
      }
    },
    {
      "cell_type": "code",
      "source": [
        "!pip install -qU langchain langchain_google_genai\n"
      ],
      "metadata": {
        "id": "t-GLlvvrdqwL"
      },
      "execution_count": 15,
      "outputs": []
    },
    {
      "cell_type": "code",
      "source": [
        "from langchain.tools import BaseTool, StructuredTool, tool\n",
        "from langchain_core.prompts import PromptTemplate\n",
        "from langchain_core.output_parsers import StrOutputParser\n",
        "from langchain_google_genai import GoogleGenerativeAI\n"
      ],
      "metadata": {
        "id": "c9tmOmYNcoHb"
      },
      "execution_count": 16,
      "outputs": []
    },
    {
      "cell_type": "code",
      "source": [
        "@tool\n",
        "def GetFlightStatus(flight_no: str) -> str:\n",
        "    \"\"\"Gets flight status and schedule.\"\"\"\n",
        "    # Invoke the real API (this is a placeholder implementation)\n",
        "    return f\"Flight {flight_no} departed at 5:20 PM. It is on time and expected to arrive at 10:30 PM at Gate B12.\""
      ],
      "metadata": {
        "id": "iyT3lNw9dvN1"
      },
      "execution_count": 18,
      "outputs": []
    },
    {
      "cell_type": "code",
      "source": [
        "print(GetFlightStatus.name)\n",
        "print(GetFlightStatus.description)\n",
        "print(GetFlightStatus.args)\n"
      ],
      "metadata": {
        "colab": {
          "base_uri": "https://localhost:8080/"
        },
        "id": "ZV5WT7spevY4",
        "outputId": "6932775f-c225-450b-8ad7-b4fcd942b838"
      },
      "execution_count": 19,
      "outputs": [
        {
          "output_type": "stream",
          "name": "stdout",
          "text": [
            "GetFlightStatus\n",
            "Gets flight status and schedule.\n",
            "{'flight_no': {'title': 'Flight No', 'type': 'string'}}\n"
          ]
        }
      ]
    },
    {
      "cell_type": "code",
      "source": [],
      "metadata": {
        "id": "dTxhTcp5gM_L"
      },
      "execution_count": null,
      "outputs": []
    },
    {
      "cell_type": "code",
      "source": [
        "GetFlightStatus"
      ],
      "metadata": {
        "colab": {
          "base_uri": "https://localhost:8080/"
        },
        "id": "GkLllr06fCIJ",
        "outputId": "6b05b5b2-5856-40eb-b196-81d97755c2d0"
      },
      "execution_count": 20,
      "outputs": [
        {
          "output_type": "execute_result",
          "data": {
            "text/plain": [
              "StructuredTool(name='GetFlightStatus', description='Gets flight status and schedule.', args_schema=<class 'langchain_core.utils.pydantic.GetFlightStatus'>, func=<function GetFlightStatus at 0x7efe7445d800>)"
            ]
          },
          "metadata": {},
          "execution_count": 20
        }
      ]
    },
    {
      "cell_type": "code",
      "source": [
        "prompt = PromptTemplate.from_template(\"Based on the context: {context}, \\n answer the query:{query} about flight:{flight} in one word.Answer only if you find the details in the context\")"
      ],
      "metadata": {
        "id": "6_Yp7p8ufFit"
      },
      "execution_count": 22,
      "outputs": []
    },
    {
      "cell_type": "code",
      "source": [
        "from google.colab import userdata\n",
        "GOOGLE_API_KEY = userdata.get('GOOGLE_API_KEY')\n",
        "llm = GoogleGenerativeAI(\n",
        "    model=\"gemini-1.5-flash\",\n",
        "    api_key = GOOGLE_API_KEY\n",
        ")"
      ],
      "metadata": {
        "id": "3JpLh7ALfyKU"
      },
      "execution_count": 23,
      "outputs": []
    },
    {
      "cell_type": "code",
      "source": [
        "flight=\"EK524\""
      ],
      "metadata": {
        "id": "3blLniMGf4Ya"
      },
      "execution_count": 24,
      "outputs": []
    },
    {
      "cell_type": "code",
      "source": [
        "context=GetFlightStatus.run(flight)"
      ],
      "metadata": {
        "id": "ciCfu6uLf7WP"
      },
      "execution_count": 25,
      "outputs": []
    },
    {
      "cell_type": "code",
      "source": [
        "context"
      ],
      "metadata": {
        "colab": {
          "base_uri": "https://localhost:8080/",
          "height": 36
        },
        "id": "BkulhZHIhAUN",
        "outputId": "576dcd3e-95dc-4982-a516-791789bfbbb1"
      },
      "execution_count": 26,
      "outputs": [
        {
          "output_type": "execute_result",
          "data": {
            "text/plain": [
              "'Flight EK524 departed at 5:20 PM. It is on time and expected to arrive at 10:30 PM at Gate B12.'"
            ],
            "application/vnd.google.colaboratory.intrinsic+json": {
              "type": "string"
            }
          },
          "metadata": {},
          "execution_count": 26
        }
      ]
    },
    {
      "cell_type": "code",
      "source": [
        "output_parser = StrOutputParser()"
      ],
      "metadata": {
        "id": "zy8srdr6gAo5"
      },
      "execution_count": 27,
      "outputs": []
    },
    {
      "cell_type": "code",
      "source": [
        "chain = prompt | llm | output_parser"
      ],
      "metadata": {
        "id": "cj7rWPtLgGIu"
      },
      "execution_count": 28,
      "outputs": []
    },
    {
      "cell_type": "code",
      "source": [
        "chain.invoke({\"context\": context, \"query\": \"status\", \"flight\": flight})\n"
      ],
      "metadata": {
        "colab": {
          "base_uri": "https://localhost:8080/",
          "height": 36
        },
        "id": "tIy4Xv-BgOfa",
        "outputId": "b4f7dee9-25d4-484c-9934-4b53bf950cbc"
      },
      "execution_count": 29,
      "outputs": [
        {
          "output_type": "execute_result",
          "data": {
            "text/plain": [
              "'Ontime\\n'"
            ],
            "application/vnd.google.colaboratory.intrinsic+json": {
              "type": "string"
            }
          },
          "metadata": {},
          "execution_count": 29
        }
      ]
    },
    {
      "cell_type": "code",
      "source": [
        "chain.invoke({\"context\":context,\"query\":\"departure time\",\"flight\":flight})"
      ],
      "metadata": {
        "colab": {
          "base_uri": "https://localhost:8080/",
          "height": 36
        },
        "id": "MzP86pZogna0",
        "outputId": "8c66a687-9d87-4e24-d0db-a46ff73c96cb"
      },
      "execution_count": 30,
      "outputs": [
        {
          "output_type": "execute_result",
          "data": {
            "text/plain": [
              "'5:20PM\\n'"
            ],
            "application/vnd.google.colaboratory.intrinsic+json": {
              "type": "string"
            }
          },
          "metadata": {},
          "execution_count": 30
        }
      ]
    },
    {
      "cell_type": "code",
      "source": [
        "chain.invoke({\"context\":context,\"query\":\"arrival time\",\"flight\":flight})"
      ],
      "metadata": {
        "colab": {
          "base_uri": "https://localhost:8080/",
          "height": 36
        },
        "id": "8N47DZYGgnnB",
        "outputId": "bb38da79-6ee0-4dbd-a30a-1be259222d83"
      },
      "execution_count": 31,
      "outputs": [
        {
          "output_type": "execute_result",
          "data": {
            "text/plain": [
              "'10:30PM\\n'"
            ],
            "application/vnd.google.colaboratory.intrinsic+json": {
              "type": "string"
            }
          },
          "metadata": {},
          "execution_count": 31
        }
      ]
    },
    {
      "cell_type": "code",
      "source": [
        "chain.invoke({\"context\":context,\"query\":\"gate\",\"flight\":flight})"
      ],
      "metadata": {
        "colab": {
          "base_uri": "https://localhost:8080/",
          "height": 36
        },
        "id": "dbAj0496gn0B",
        "outputId": "65af3c4e-8f3e-4e5a-944f-e66ac3347411"
      },
      "execution_count": 32,
      "outputs": [
        {
          "output_type": "execute_result",
          "data": {
            "text/plain": [
              "'B12\\n'"
            ],
            "application/vnd.google.colaboratory.intrinsic+json": {
              "type": "string"
            }
          },
          "metadata": {},
          "execution_count": 32
        }
      ]
    }
  ]
}