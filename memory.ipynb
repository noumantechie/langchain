{
  "nbformat": 4,
  "nbformat_minor": 0,
  "metadata": {
    "colab": {
      "provenance": [],
      "authorship_tag": "ABX9TyO4WQu9GjSASRTr0odsrI2F",
      "include_colab_link": true
    },
    "kernelspec": {
      "name": "python3",
      "display_name": "Python 3"
    },
    "language_info": {
      "name": "python"
    }
  },
  "cells": [
    {
      "cell_type": "markdown",
      "metadata": {
        "id": "view-in-github",
        "colab_type": "text"
      },
      "source": [
        "<a href=\"https://colab.research.google.com/github/noumantechie/langchain/blob/main/memory.ipynb\" target=\"_parent\"><img src=\"https://colab.research.google.com/assets/colab-badge.svg\" alt=\"Open In Colab\"/></a>"
      ]
    },
    {
      "cell_type": "markdown",
      "source": [
        "**long-Term memory to LLM using redis **"
      ],
      "metadata": {
        "id": "vG92W80uy-mT"
      }
    },
    {
      "cell_type": "code",
      "source": [
        "%pip install -qU langchain-google-genai"
      ],
      "metadata": {
        "id": "Ruj0BX7fgXFH"
      },
      "execution_count": null,
      "outputs": []
    },
    {
      "cell_type": "code",
      "source": [
        "%pip install -qU langchain-redis langchain_google_genai redis"
      ],
      "metadata": {
        "id": "EZFL1NU4Wvzl"
      },
      "execution_count": null,
      "outputs": []
    },
    {
      "cell_type": "markdown",
      "source": [
        "**Modules that need for storing chat history **"
      ],
      "metadata": {
        "id": "OF8zP0Q-lFRb"
      }
    },
    {
      "cell_type": "code",
      "source": [
        "from langchain_core.prompts import ChatPromptTemplate, MessagesPlaceholder\n",
        "from langchain_google_genai import ChatGoogleGenerativeAI\n",
        "\n",
        "\n",
        "from langchain_core.runnables.history import RunnableWithMessageHistory\n",
        "from langchain_redis import RedisChatMessageHistory\n",
        "# from langchain_core.runnables import ConfigurableField"
      ],
      "metadata": {
        "id": "5cMWwmykg1uM"
      },
      "execution_count": null,
      "outputs": []
    },
    {
      "cell_type": "code",
      "source": [
        "from google.colab import userdata\n",
        "GOOGLE_API_KEY = userdata.get('GOOGLE_API_KEY')\n",
        "\n",
        "llm = ChatGoogleGenerativeAI(\n",
        "    model=\"gemini-1.5-flash\",\n",
        "    api_key=GOOGLE_API_KEY  # Corrected 'api_ket' to 'api_key'\n",
        ")\n",
        ""
      ],
      "metadata": {
        "id": "jgeC71l73SFE"
      },
      "execution_count": null,
      "outputs": []
    },
    {
      "cell_type": "code",
      "source": [
        "prompt = ChatPromptTemplate.from_messages(\n",
        "    [\n",
        "        (\"system\", \"You are an assistant who's good at {ability}. Respond in 20 words or fewer.\"),\n",
        "        MessagesPlaceholder(variable_name=\"history\"),  # Moved inside the list\n",
        "        (\"human\", \"{input}\"),\n",
        "    ]\n",
        ")\n",
        "\n",
        "base_chain = prompt | llm\n",
        "\n"
      ],
      "metadata": {
        "id": "P_iL0qPvlkRi"
      },
      "execution_count": null,
      "outputs": []
    },
    {
      "cell_type": "markdown",
      "source": [
        "**Redis URL where it is running and here is list where we store history**"
      ],
      "metadata": {
        "id": "y_JuxiEPt_D2"
      }
    },
    {
      "cell_type": "code",
      "source": [
        "REDIS_URL = \"redis://localhost:6379/0\"\n",
        "store = {}"
      ],
      "metadata": {
        "id": "kUNHm1_3jHyY"
      },
      "execution_count": null,
      "outputs": []
    },
    {
      "cell_type": "markdown",
      "source": [
        "**Every session is going to have a session id so, the idea is we can have multiple threads and each thread will have a different thread id or session id . So, we need to retrueve that session id if it does not exist then we need to create that.**"
      ],
      "metadata": {
        "id": "pNdcWWp1uIvW"
      }
    },
    {
      "cell_type": "code",
      "source": [
        "def get_message_history(session_id: str) -> RedisChatMessageHistory:\n",
        "    return RedisChatMessageHistory(\n",
        "        session_id=session_id,\n",
        "        redis_url=REDIS_URL  # Correct parameter name\n",
        "    )\n",
        "\n",
        "redis_chain = RunnableWithMessageHistory(\n",
        "    base_chain,\n",
        "    get_message_history,\n",
        "    input_messages_key=\"input\",\n",
        "    history_messages_key=\"history\"\n",
        ")\n",
        "\n"
      ],
      "metadata": {
        "id": "GNwXB1ptmAD-"
      },
      "execution_count": null,
      "outputs": []
    },
    {
      "cell_type": "code",
      "source": [
        "redis_chain.invoke(\n",
        "    {\"ability\": \"math\",\n",
        "     \"input\": \"what does cosine mean?\"},\n",
        "    config={\"configurable\": {\"session_id\": \"math_thread1\"}},\n",
        ")\n"
      ],
      "metadata": {
        "id": "5yXEqKJms3TY"
      },
      "execution_count": null,
      "outputs": []
    },
    {
      "cell_type": "code",
      "source": [
        "redis_chain.invoke(\n",
        "    {\"ability\": \"math\",\n",
        "     \"input\": \"Tell me more?\"},\n",
        "    config={\"configurable\": {\"session_id\": \"math_thread1\"}},\n",
        ")"
      ],
      "metadata": {
        "id": "Mm2pm5N3Z2eg"
      },
      "execution_count": null,
      "outputs": []
    },
    {
      "cell_type": "markdown",
      "source": [
        "**For Multiple Thread Running at same time **"
      ],
      "metadata": {
        "id": "Jcm5OHsRuhp2"
      }
    },
    {
      "cell_type": "code",
      "source": [
        "redis_chain.invoke(\n",
        "    {\"ability\": \"physics\",\n",
        "     \"input\": \"what is the therory of relativity?\"},\n",
        "    config={\"configurable\": {\"session_id\": \"phy_thread1\"}},\n",
        ")"
      ],
      "metadata": {
        "id": "WtYQy-dCZ_lZ"
      },
      "execution_count": null,
      "outputs": []
    },
    {
      "cell_type": "code",
      "source": [
        "redis_chain.invoke(\n",
        "    {\"ability\": \"physics\",\n",
        "     \"input\": \"Tell me more\"},\n",
        "    config={\"configurable\": {\"session_id\": \"phy_thread1\"}},\n",
        ")"
      ],
      "metadata": {
        "id": "Owy35Oo2aV0F"
      },
      "execution_count": null,
      "outputs": []
    }
  ]
}