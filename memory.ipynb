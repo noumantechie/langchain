{
  "nbformat": 4,
  "nbformat_minor": 0,
  "metadata": {
    "colab": {
      "provenance": [],
      "authorship_tag": "ABX9TyMGrpqrRxE5apP3Ak6JYx00",
      "include_colab_link": true
    },
    "kernelspec": {
      "name": "python3",
      "display_name": "Python 3"
    },
    "language_info": {
      "name": "python"
    }
  },
  "cells": [
    {
      "cell_type": "markdown",
      "metadata": {
        "id": "view-in-github",
        "colab_type": "text"
      },
      "source": [
        "<a href=\"https://colab.research.google.com/github/noumantechie/langchain/blob/main/memory.ipynb\" target=\"_parent\"><img src=\"https://colab.research.google.com/assets/colab-badge.svg\" alt=\"Open In Colab\"/></a>"
      ]
    },
    {
      "cell_type": "code",
      "source": [
        "%pip install -qU langchain-google-genai"
      ],
      "metadata": {
        "id": "Ruj0BX7fgXFH"
      },
      "execution_count": null,
      "outputs": []
    },
    {
      "cell_type": "markdown",
      "source": [
        "**Now we add histroy as a context to LLM by MessagePlaceholder**"
      ],
      "metadata": {
        "id": "OF8zP0Q-lFRb"
      }
    },
    {
      "cell_type": "code",
      "source": [
        "from langchain_google_genai import ChatGoogleGenerativeAI\n",
        "from langchain_core.prompts import ChatPromptTemplate , MessagesPlaceholder\n"
      ],
      "metadata": {
        "id": "5cMWwmykg1uM"
      },
      "execution_count": 10,
      "outputs": []
    },
    {
      "cell_type": "code",
      "source": [
        "from google.colab import userdata\n",
        "GOOGLE_API_KEY = userdata.get('GOOGLE_API_KEY')\n",
        "\n",
        "llm = ChatGoogleGenerativeAI(\n",
        "    model=\"gemini-1.5-flash\",\n",
        "    api_key=GOOGLE_API_KEY  # Corrected 'api_ket' to 'api_key'\n",
        ")"
      ],
      "metadata": {
        "id": "qIdaUTQGlkDD"
      },
      "execution_count": 11,
      "outputs": []
    },
    {
      "cell_type": "code",
      "source": [
        "prompt = ChatPromptTemplate.from_messages(\n",
        "    [\n",
        "        (\"system\", \"You are an assistant who's good at {ability}. Respond in 20 words or fewer.\"),\n",
        "        MessagesPlaceholder(variable_name=\"history\"),  # Moved inside the list\n",
        "        (\"human\", \"{input}\"),\n",
        "    ]\n",
        ")"
      ],
      "metadata": {
        "id": "P_iL0qPvlkRi"
      },
      "execution_count": 12,
      "outputs": []
    },
    {
      "cell_type": "code",
      "source": [
        "base_chain = prompt | llm\n",
        "\n",
        "# base_chain.invoke(\n",
        "#     {\"ability\": \"math\", \"input\": \"What's a right-angle triangle?\"}  # Fixed typo and structure\n",
        "# )\n"
      ],
      "metadata": {
        "id": "kUNHm1_3jHyY"
      },
      "execution_count": 13,
      "outputs": []
    },
    {
      "cell_type": "markdown",
      "source": [
        "**Now this history of previous output pass as a context to the LLM.**"
      ],
      "metadata": {
        "id": "7ZjBCnLDnF9p"
      }
    },
    {
      "cell_type": "code",
      "source": [
        "history = [\n",
        "    (\"human\", \"What's a right-angled triangle ?\"),\n",
        "    (\"ai\", \"A right-angled has one angle of 90 degree , with the other two angles summing to 90 degrees.\"),\n",
        "]"
      ],
      "metadata": {
        "id": "GNwXB1ptmAD-"
      },
      "execution_count": 14,
      "outputs": []
    },
    {
      "cell_type": "code",
      "source": [
        "base_chain.invoke(\n",
        "    {\"ability\": \"math\", \"input\": \"What are the other types?\" , \"history\": history}  # Fixed typo and structure\n",
        ")\n"
      ],
      "metadata": {
        "colab": {
          "base_uri": "https://localhost:8080/"
        },
        "id": "1jvANL0bl3J4",
        "outputId": "b4545f8c-ec4e-4f8e-ac31-86ae40fc919c"
      },
      "execution_count": 17,
      "outputs": [
        {
          "output_type": "execute_result",
          "data": {
            "text/plain": [
              "AIMessage(content='Acute triangles (all angles < 90°), obtuse triangles (one angle > 90°).', additional_kwargs={}, response_metadata={'prompt_feedback': {'block_reason': 0, 'safety_ratings': []}, 'finish_reason': 'STOP', 'safety_ratings': []}, id='run-23a450c1-86a5-4eb4-b4d1-d145fc0bf0d9-0', usage_metadata={'input_tokens': 60, 'output_tokens': 23, 'total_tokens': 83, 'input_token_details': {'cache_read': 0}})"
            ]
          },
          "metadata": {},
          "execution_count": 17
        }
      ]
    },
    {
      "cell_type": "code",
      "source": [],
      "metadata": {
        "id": "2e6h1rogltTh"
      },
      "execution_count": null,
      "outputs": []
    }
  ]
}