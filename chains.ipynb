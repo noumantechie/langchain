{
  "nbformat": 4,
  "nbformat_minor": 0,
  "metadata": {
    "colab": {
      "provenance": [],
      "authorship_tag": "ABX9TyOdOY5nvW103qzFxbnkdYuo",
      "include_colab_link": true
    },
    "kernelspec": {
      "name": "python3",
      "display_name": "Python 3"
    },
    "language_info": {
      "name": "python"
    }
  },
  "cells": [
    {
      "cell_type": "markdown",
      "metadata": {
        "id": "view-in-github",
        "colab_type": "text"
      },
      "source": [
        "<a href=\"https://colab.research.google.com/github/noumantechie/langchain/blob/main/chains.ipynb\" target=\"_parent\"><img src=\"https://colab.research.google.com/assets/colab-badge.svg\" alt=\"Open In Colab\"/></a>"
      ]
    },
    {
      "cell_type": "code",
      "source": [
        "%pip install -qU langchain_community beautifulsoup4 langchain_google_genai\n",
        "from langchain_community.document_loaders import WebBaseLoader\n",
        "from langchain_google_genai import ChatGoogleGenerativeAI\n",
        "from langchain_core.prompts import ChatPromptTemplate\n",
        "from langchain.chains.combine_documents import create_stuff_documents_chain\n",
        "from google.colab import userdata\n",
        "\n",
        "# Load documents\n",
        "URL1 = \"https://techcrunch.com/2024/02/27/microsoft-made-a-16-million-investment-in-mistral-ai/\"\n",
        "URL2 = \"https://techcrunch.com/2024/03/28/ai21-labs-new-text-generating-ai-model-is-more-efficient-than-most/\"\n",
        "loader = WebBaseLoader([URL1, URL2])\n",
        "documents = loader.load()\n",
        "\n",
        "# Create prompt template\n",
        "prompt = ChatPromptTemplate.from_template(\n",
        "    \"\"\"Answer the question based only on the provided context:\n",
        "    {context}\n",
        "\n",
        "    Question: What models are launched by Mistral and AI21 Labs?\"\"\"\n",
        ")\n",
        "\n",
        "# Initialize model\n",
        "GOOGLE_API_KEY = userdata.get('GOOGLE_API_KEY')\n",
        "llm = ChatGoogleGenerativeAI(\n",
        "    model=\"gemini-1.5-flash\",\n",
        "    api_key=GOOGLE_API_KEY\n",
        ")\n",
        "\n",
        "# Create chain\n",
        "chain = create_stuff_documents_chain(llm, prompt)\n",
        "\n",
        "# Invoke with documents directly\n",
        "result = chain.invoke({\"context\": documents})\n",
        "print(result)"
      ],
      "metadata": {
        "colab": {
          "base_uri": "https://localhost:8080/"
        },
        "id": "h3URQmEspMQV",
        "outputId": "4ad2cff9-4855-4ddc-ecc5-38fa03d7587c"
      },
      "execution_count": 26,
      "outputs": [
        {
          "output_type": "stream",
          "name": "stdout",
          "text": [
            "Mistral AI launched Mistral Large, a large language model designed to rival GPT-4 and Claude 2.  AI21 Labs launched Jamba, a text-generating and -analyzing model.\n"
          ]
        }
      ]
    }
  ]
}