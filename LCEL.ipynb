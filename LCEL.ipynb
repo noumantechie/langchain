{
  "nbformat": 4,
  "nbformat_minor": 0,
  "metadata": {
    "colab": {
      "provenance": [],
      "authorship_tag": "ABX9TyOvu4HDKGxEnflR4mwj3PPq",
      "include_colab_link": true
    },
    "kernelspec": {
      "name": "python3",
      "display_name": "Python 3"
    },
    "language_info": {
      "name": "python"
    }
  },
  "cells": [
    {
      "cell_type": "markdown",
      "metadata": {
        "id": "view-in-github",
        "colab_type": "text"
      },
      "source": [
        "<a href=\"https://colab.research.google.com/github/noumantechie/langchain/blob/main/LCEL.ipynb\" target=\"_parent\"><img src=\"https://colab.research.google.com/assets/colab-badge.svg\" alt=\"Open In Colab\"/></a>"
      ]
    },
    {
      "cell_type": "markdown",
      "source": [
        "LCEL (Langchain Expression Language)"
      ],
      "metadata": {
        "id": "w0uAh4EBlJIF"
      }
    },
    {
      "cell_type": "code",
      "source": [
        "!pip install langchain-google-genai\n"
      ],
      "metadata": {
        "id": "G2WEZPaFlqwp"
      },
      "execution_count": null,
      "outputs": []
    },
    {
      "cell_type": "code",
      "execution_count": null,
      "metadata": {
        "id": "7iSYkhF5k6DD"
      },
      "outputs": [],
      "source": [
        "from langchain_google_genai import ChatGoogleGenerativeAI\n",
        "from langchain_core.prompts import ChatPromptTemplate\n",
        "from langchain_core.output_parsers import StrOutputParser\n"
      ]
    },
    {
      "cell_type": "code",
      "source": [
        "prompt = ChatPromptTemplate.from_template(\"\"\"\n",
        "  You are a helpful assistant.\n",
        "  Answer the following question: {question}\n",
        "  \"\"\")\n"
      ],
      "metadata": {
        "id": "AZAlmRAJlhl_"
      },
      "execution_count": null,
      "outputs": []
    },
    {
      "cell_type": "code",
      "source": [
        "from google.colab import userdata\n",
        "GOOGLE_API_KEY = userdata.get('GOOGLE_API_KEY')\n",
        "\n",
        "llm = ChatGoogleGenerativeAI(\n",
        "    model=\"gemini-1.5-flash\",\n",
        "    api_key=GOOGLE_API_KEY  # Corrected 'api_ket' to 'api_key'\n",
        ")\n"
      ],
      "metadata": {
        "id": "Q3daOi8hmF3w"
      },
      "execution_count": null,
      "outputs": []
    },
    {
      "cell_type": "code",
      "source": [
        "output_parser = StrOutputParser()"
      ],
      "metadata": {
        "id": "gcnPQ0L9mNmJ"
      },
      "execution_count": null,
      "outputs": []
    },
    {
      "cell_type": "code",
      "source": [
        "chain = prompt | llm | output_parser"
      ],
      "metadata": {
        "id": "PSJPlEVkmSnh"
      },
      "execution_count": null,
      "outputs": []
    },
    {
      "cell_type": "code",
      "source": [
        "chain.invoke({\"question\": \"Tell me about The Godfather movie\"})\n"
      ],
      "metadata": {
        "id": "OUQyfanO2b6c"
      },
      "execution_count": null,
      "outputs": []
    },
    {
      "cell_type": "markdown",
      "source": [
        "**For Getting the Output in Chunks**"
      ],
      "metadata": {
        "id": "AVT7rC_9wlF_"
      }
    },
    {
      "cell_type": "code",
      "source": [
        "for chunk in chain.stream({\"question\": \"Tell me about The Godfather movie\"}):\n",
        "  print(chunk)"
      ],
      "metadata": {
        "id": "Z8lNMWATwiOQ"
      },
      "execution_count": null,
      "outputs": []
    },
    {
      "cell_type": "markdown",
      "source": [
        "**Batching Technique : In batching we actually create a list of dictonary and this dictonary is almost like a single prompt.**"
      ],
      "metadata": {
        "id": "7fkeOLZIxz7i"
      }
    },
    {
      "cell_type": "code",
      "source": [
        "questions = [\n",
        "    {\"question\": \"Tell me about The Godfather movie\"},\n",
        "    {\"question\": \"Tell me about The Dark Knight movie\"},\n",
        "    {\"question\": \"Tell me about The Matrix movie\"},\n",
        "]\n"
      ],
      "metadata": {
        "id": "l1MTIk-swytc"
      },
      "execution_count": null,
      "outputs": []
    },
    {
      "cell_type": "code",
      "source": [
        "respose=chain.batch(questions)"
      ],
      "metadata": {
        "id": "NM1kXOri2eSK"
      },
      "execution_count": null,
      "outputs": []
    },
    {
      "cell_type": "code",
      "source": [
        "response"
      ],
      "metadata": {
        "id": "m_QY1SAyyNb4"
      },
      "execution_count": null,
      "outputs": []
    }
  ]
}