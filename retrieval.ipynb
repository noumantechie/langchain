{
  "nbformat": 4,
  "nbformat_minor": 0,
  "metadata": {
    "colab": {
      "provenance": [],
      "authorship_tag": "ABX9TyNboIbRBcjIAHwUm0Selspk",
      "include_colab_link": true
    },
    "kernelspec": {
      "name": "python3",
      "display_name": "Python 3"
    },
    "language_info": {
      "name": "python"
    }
  },
  "cells": [
    {
      "cell_type": "markdown",
      "metadata": {
        "id": "view-in-github",
        "colab_type": "text"
      },
      "source": [
        "<a href=\"https://colab.research.google.com/github/noumantechie/langchain/blob/main/retrieval.ipynb\" target=\"_parent\"><img src=\"https://colab.research.google.com/assets/colab-badge.svg\" alt=\"Open In Colab\"/></a>"
      ]
    },
    {
      "cell_type": "code",
      "source": [
        "%pip install -qU pypdf langchain_community"
      ],
      "metadata": {
        "id": "UlB7HIQTxnEj"
      },
      "execution_count": null,
      "outputs": []
    },
    {
      "cell_type": "code",
      "source": [
        "from langchain.document_loaders import PyPDFLoader\n",
        "\n",
        "# Load the PDF file\n",
        "pdf_path = \"/content/General_Instructions_candiadtes.pdf\"  # Ensure the correct file path\n",
        "loader = PyPDFLoader(pdf_path)\n",
        "\n",
        "\n",
        "\n"
      ],
      "metadata": {
        "id": "Ieh7CEWlNoef"
      },
      "execution_count": null,
      "outputs": []
    },
    {
      "cell_type": "code",
      "source": [
        "# Now use load_and_split()\n",
        "pages = loader.load_and_split()"
      ],
      "metadata": {
        "id": "I1yFPZmdN4Sj"
      },
      "execution_count": 6,
      "outputs": []
    },
    {
      "cell_type": "code",
      "source": [
        "len(pages)"
      ],
      "metadata": {
        "colab": {
          "base_uri": "https://localhost:8080/"
        },
        "id": "B5JAN0MjPGJx",
        "outputId": "d6e046f7-364e-4bfe-d981-7eff0a74689f"
      },
      "execution_count": 9,
      "outputs": [
        {
          "output_type": "execute_result",
          "data": {
            "text/plain": [
              "5"
            ]
          },
          "metadata": {},
          "execution_count": 9
        }
      ]
    },
    {
      "cell_type": "code",
      "source": [
        "pages[1].page_content"
      ],
      "metadata": {
        "colab": {
          "base_uri": "https://localhost:8080/",
          "height": 123
        },
        "id": "ZMUch6s6PNdw",
        "outputId": "39be376a-968c-4882-ddf3-ef6be46c9df5"
      },
      "execution_count": 10,
      "outputs": [
        {
          "output_type": "execute_result",
          "data": {
            "text/plain": [
              "'NATIONAL TEXTILE UNIVERSITY \\n \\nviii. The candidates who fail to furnish the requisite documents within stipulated time or \\nfurnish incorrect/incomplete information, their candidature shall be liable to rejection. \\nTherefore, they are advised to get their documents ready for submission. \\nix. The candidates called for interview must bring their original documents etc. on the day \\nof their interview. \\nx. Eligibility of the candidates in all respects shall be reckoned up to the closing date. \\nxi. The candidates are advised to apply online at the earliest without waiting for the closing \\ndate. \\n \\nB. EDUCATIONAL QUALIFICATIONS AND EXPERIENCE \\n \\n1. The prescribed educational qualifications and valid registration with PEC , where \\napplicable/required must have been acquired on or  before the closing date for submission of  \\napplications.  \\n \\n2. Applications of candidates, whose result is not officially announced by the Controller of  \\nExamination of a Board/ University on or before the closing date, shall not be considered. Proof of \\nthe announcement of results (date, month and year) should be provided along with the requisite \\ndocuments. \\n \\n3. The eligibility of a candidate is governed by the Recruitment Rules of a post  by the University. \\nCandidates who have foreign degree needs to submit the equivalence of a foreign degree issued by \\nthe concerned organization mandatorily with the other required documents with translation in \\nUrdu/English.  \\n \\n4. ‘Post qualification experience’ means the experience gained in a regular full-time paid job \\nacquired after attaining the requisite/ minimum advertised qualifications.  \\n \\n5. Period reckonable as post  qualification experience is from date of commencement of experience \\nwhich essentially must be after date  of attaining the qualification  (counted after the result of \\nrequisite qualification is officially announced by the  Controller of Exam of a Board/ University \\nconcerned) till the closing date.  \\n \\n6. The experience as part time,  honorary/ self-employed and apprentice/ internee will not be \\nconsidered/ counted as experience. \\n \\n7. Any experience overlapping with another period of post qualification experience will also not be \\nadmissible. \\n \\n8. Subsequent changes in post qualification experience in the form of additional certificates supplied \\nlater will not be admissible (unless asked by the university). \\n \\nC. EVIDENCE OF DATE OF BIRTH \\n \\ni. Matriculation Certificate which clearly states the Date of Birth. OR \\n \\nii. In case a candidate who possesses GCE ‘O’ level or equivalent certificate which does not \\ncontain the Date of Birth, the School Leaving Certificate along with Birth Certificate issued by \\nthe Hospital/Municipal Committee as an authentic proof of Date of Birth will be accepted. OR \\nValid CNIC'"
            ],
            "application/vnd.google.colaboratory.intrinsic+json": {
              "type": "string"
            }
          },
          "metadata": {},
          "execution_count": 10
        }
      ]
    }
  ]
}