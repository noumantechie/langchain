{
  "nbformat": 4,
  "nbformat_minor": 0,
  "metadata": {
    "colab": {
      "provenance": [],
      "authorship_tag": "ABX9TyN4D9ORUTjrZwkUyKoazSox",
      "include_colab_link": true
    },
    "kernelspec": {
      "name": "python3",
      "display_name": "Python 3"
    },
    "language_info": {
      "name": "python"
    }
  },
  "cells": [
    {
      "cell_type": "markdown",
      "metadata": {
        "id": "view-in-github",
        "colab_type": "text"
      },
      "source": [
        "<a href=\"https://colab.research.google.com/github/noumantechie/langchain/blob/main/retrieval.ipynb\" target=\"_parent\"><img src=\"https://colab.research.google.com/assets/colab-badge.svg\" alt=\"Open In Colab\"/></a>"
      ]
    },
    {
      "cell_type": "markdown",
      "source": [
        "**STEP 1 Loading Document**"
      ],
      "metadata": {
        "id": "6xIId9kfXx5P"
      }
    },
    {
      "cell_type": "code",
      "source": [
        "%pip install -qU pypdf langchain_community"
      ],
      "metadata": {
        "id": "UlB7HIQTxnEj"
      },
      "execution_count": null,
      "outputs": []
    },
    {
      "cell_type": "code",
      "source": [
        "from langchain.document_loaders import PyPDFLoader\n",
        "\n",
        "# Load the PDF file\n",
        "pdf_path = \"/content/General_Instructions_candiadtes.pdf\"  # Ensure the correct file path\n",
        "loader = PyPDFLoader(pdf_path)"
      ],
      "metadata": {
        "id": "Ieh7CEWlNoef"
      },
      "execution_count": null,
      "outputs": []
    },
    {
      "cell_type": "code",
      "source": [
        "# Now use load_and_split()\n",
        "pages = loader.load_and_split()"
      ],
      "metadata": {
        "id": "I1yFPZmdN4Sj"
      },
      "execution_count": null,
      "outputs": []
    },
    {
      "cell_type": "code",
      "source": [
        "len(pages)"
      ],
      "metadata": {
        "id": "B5JAN0MjPGJx"
      },
      "execution_count": null,
      "outputs": []
    },
    {
      "cell_type": "code",
      "source": [
        "pages[1].page_content"
      ],
      "metadata": {
        "id": "QiZP34wfUlsC"
      },
      "execution_count": null,
      "outputs": []
    },
    {
      "cell_type": "markdown",
      "source": [
        "**Step 2 Chunking**"
      ],
      "metadata": {
        "id": "0LYwrxZ2X4aW"
      }
    },
    {
      "cell_type": "code",
      "source": [
        "%pip install -qU langchain-text-splitters"
      ],
      "metadata": {
        "id": "dpsQZLPHX_Qf"
      },
      "execution_count": null,
      "outputs": []
    },
    {
      "cell_type": "code",
      "source": [
        "from langchain_text_splitters import RecursiveCharacterTextSplitter"
      ],
      "metadata": {
        "id": "yF_e80AkYGwZ"
      },
      "execution_count": null,
      "outputs": []
    },
    {
      "cell_type": "code",
      "source": [
        "text_splitter = RecursiveCharacterTextSplitter(\n",
        "    # Set a really small chunk size, just to show.\n",
        "    chunk_size=200,\n",
        "    chunk_overlap=50,\n",
        ")\n",
        "chunks = text_splitter.split_documents(pages)"
      ],
      "metadata": {
        "id": "DFA8e9hzYP0j"
      },
      "execution_count": null,
      "outputs": []
    },
    {
      "cell_type": "code",
      "source": [
        "chunks"
      ],
      "metadata": {
        "id": "60Gi0AmxY84I"
      },
      "execution_count": null,
      "outputs": []
    },
    {
      "cell_type": "code",
      "source": [
        "len(chunks)"
      ],
      "metadata": {
        "colab": {
          "base_uri": "https://localhost:8080/"
        },
        "id": "vsGMbzzeZca_",
        "outputId": "742caf66-7b92-498f-9add-a253d1efbb75"
      },
      "execution_count": 25,
      "outputs": [
        {
          "output_type": "execute_result",
          "data": {
            "text/plain": [
              "79"
            ]
          },
          "metadata": {},
          "execution_count": 25
        }
      ]
    },
    {
      "cell_type": "code",
      "source": [
        "chunks[0]"
      ],
      "metadata": {
        "colab": {
          "base_uri": "https://localhost:8080/"
        },
        "id": "acaxBoh6Zn3n",
        "outputId": "60dfe343-019e-427b-82e9-fb6859b85d9f"
      },
      "execution_count": 26,
      "outputs": [
        {
          "output_type": "execute_result",
          "data": {
            "text/plain": [
              "Document(metadata={'producer': 'Microsoft® Word 2016', 'creator': 'Microsoft® Word 2016', 'creationdate': '2019-07-25T11:55:13+05:00', 'author': 'Rubina Mustafa', 'moddate': '2019-07-25T11:55:13+05:00', 'source': '/content/General_Instructions_candiadtes.pdf', 'total_pages': 5, 'page': 0, 'page_label': '1'}, page_content='NATIONAL TEXTILE UNIVERSITY \\n \\n \\nGeneral Instructions for Candidates \\n \\nA. SUBMISSION OF APPLICATION \\n \\n1. All applications must be submitted online through NTU website: www.ntu.edu.pk. Anyhow the')"
            ]
          },
          "metadata": {},
          "execution_count": 26
        }
      ]
    },
    {
      "cell_type": "code",
      "source": [
        "chunks[1]"
      ],
      "metadata": {
        "colab": {
          "base_uri": "https://localhost:8080/"
        },
        "id": "Cwcel5bBZqcc",
        "outputId": "c46ac082-ec78-4891-f053-59ab6c134a00"
      },
      "execution_count": 29,
      "outputs": [
        {
          "output_type": "execute_result",
          "data": {
            "text/plain": [
              "Document(metadata={'producer': 'Microsoft® Word 2016', 'creator': 'Microsoft® Word 2016', 'creationdate': '2019-07-25T11:55:13+05:00', 'author': 'Rubina Mustafa', 'moddate': '2019-07-25T11:55:13+05:00', 'source': '/content/General_Instructions_candiadtes.pdf', 'total_pages': 5, 'page': 0, 'page_label': '1'}, page_content='candidates applying against posts at  Sr # 30, 31, 32, 33  of advertisement, may apply by \\ndownloading the prescribed form from NTU website. All others need to apply online.')"
            ]
          },
          "metadata": {},
          "execution_count": 29
        }
      ]
    },
    {
      "cell_type": "markdown",
      "source": [
        "**Step 3 Generate Embeddings **"
      ],
      "metadata": {
        "id": "vbxjpBmVviMe"
      }
    },
    {
      "cell_type": "code",
      "source": [
        "!pip install langchain_huggingface"
      ],
      "metadata": {
        "id": "q8OWzKvJv_tA"
      },
      "execution_count": null,
      "outputs": []
    },
    {
      "cell_type": "code",
      "source": [
        "# from langchain.embeddings import HuggingFaceEmbeddings\n",
        "from langchain_huggingface import HuggingFaceEmbeddings"
      ],
      "metadata": {
        "id": "vme6drBpvMvS"
      },
      "execution_count": null,
      "outputs": []
    },
    {
      "cell_type": "code",
      "source": [
        "# Load an open-source Sentence Transformer model\n",
        "embeddings = HuggingFaceEmbeddings(model_name=\"all-MiniLM-L6-v2\")"
      ],
      "metadata": {
        "id": "fwwADWAowRt9"
      },
      "execution_count": null,
      "outputs": []
    },
    {
      "cell_type": "code",
      "source": [
        "docs = [\n",
        "    \"Thrilling Finale Awaits: The Countdown to the Cricket World Cup Championship\",\n",
        "    \"Global Giants Clash: Footbal World Cup Semi-Finals Set the Stage for Epic Showdowns\",\n",
        "    \"From Underdogs to Contenders: Football world Cup Suprises and Breakout Stars\"\n",
        "]"
      ],
      "metadata": {
        "id": "SmwnM3zowbQa"
      },
      "execution_count": 40,
      "outputs": []
    },
    {
      "cell_type": "code",
      "source": [
        "embedding_vectors = embeddings.embed_documents(docs)\n"
      ],
      "metadata": {
        "id": "9bP6q0tawcyi"
      },
      "execution_count": 41,
      "outputs": []
    },
    {
      "cell_type": "code",
      "source": [
        "len(embedding_vectors)"
      ],
      "metadata": {
        "colab": {
          "base_uri": "https://localhost:8080/"
        },
        "id": "Y5P6TKMBw_cF",
        "outputId": "216102f5-e35e-4b64-f6cc-0af1a51b7036"
      },
      "execution_count": 42,
      "outputs": [
        {
          "output_type": "execute_result",
          "data": {
            "text/plain": [
              "3"
            ]
          },
          "metadata": {},
          "execution_count": 42
        }
      ]
    },
    {
      "cell_type": "code",
      "source": [
        "embedding_vectors[0]"
      ],
      "metadata": {
        "id": "AsnajN21xCJw"
      },
      "execution_count": null,
      "outputs": []
    },
    {
      "cell_type": "markdown",
      "source": [
        "**Step 4 Semantic Search and Storing into Database**"
      ],
      "metadata": {
        "id": "acYqy4Jb0qtR"
      }
    },
    {
      "cell_type": "code",
      "source": [
        "!pip install -qU \"langchain-chroma>=0.1.2\""
      ],
      "metadata": {
        "id": "f1lIBvda1FX8"
      },
      "execution_count": 38,
      "outputs": []
    },
    {
      "cell_type": "code",
      "source": [
        "from langchain_chroma import Chroma"
      ],
      "metadata": {
        "id": "VKdzRN0d0pD3"
      },
      "execution_count": 39,
      "outputs": []
    },
    {
      "cell_type": "code",
      "source": [
        "# Load an open-source Sentence Transformer model\n",
        "embeddings = HuggingFaceEmbeddings(model_name=\"all-MiniLM-L6-v2\")"
      ],
      "metadata": {
        "id": "N_FSqOTc1YK_"
      },
      "execution_count": 43,
      "outputs": []
    },
    {
      "cell_type": "code",
      "source": [
        "docs = [\n",
        "    \"Thrilling Finale Awaits: The Countdown to the Cricket World Cup Championship\",\n",
        "    \"Global Giants Clash: Footbal World Cup Semi-Finals Set the Stage for Epic Showdowns\",\n",
        "    \"From Underdogs to Contenders: Football world Cup Suprises and Breakout Stars\"\n",
        "]"
      ],
      "metadata": {
        "id": "8RxUgn5R1fc-"
      },
      "execution_count": 44,
      "outputs": []
    },
    {
      "cell_type": "code",
      "source": [
        "vectorstore = Chroma.from_texts(texts=docs , embedding=embeddings)"
      ],
      "metadata": {
        "id": "HYVzv_MQ2QvC"
      },
      "execution_count": 45,
      "outputs": []
    },
    {
      "cell_type": "code",
      "source": [
        "vectorstore.similarity_search('Imran Khan' , 1)"
      ],
      "metadata": {
        "colab": {
          "base_uri": "https://localhost:8080/"
        },
        "id": "vrFFk0L32gEX",
        "outputId": "3385c7ef-4c4c-4e30-835b-145e5904b5f7"
      },
      "execution_count": 50,
      "outputs": [
        {
          "output_type": "execute_result",
          "data": {
            "text/plain": [
              "[Document(id='e10c4b6b-fefa-42f6-964e-4f0f03d631bb', metadata={}, page_content='Thrilling Finale Awaits: The Countdown to the Cricket World Cup Championship')]"
            ]
          },
          "metadata": {},
          "execution_count": 50
        }
      ]
    },
    {
      "cell_type": "code",
      "source": [
        "vectorstore.similarity_search('Lionel Messi' , 2)"
      ],
      "metadata": {
        "colab": {
          "base_uri": "https://localhost:8080/"
        },
        "id": "BL3Csnuz27BO",
        "outputId": "eb252ace-6fa6-47e5-b06b-aef9c54df294"
      },
      "execution_count": 51,
      "outputs": [
        {
          "output_type": "execute_result",
          "data": {
            "text/plain": [
              "[Document(id='14a3295e-f6e6-4eec-8ded-590b1c2dbc98', metadata={}, page_content='From Underdogs to Contenders: Football world Cup Suprises and Breakout Stars'),\n",
              " Document(id='8d38afc3-4a30-4e6d-b3b9-3965bd2f7535', metadata={}, page_content='Global Giants Clash: Footbal World Cup Semi-Finals Set the Stage for Epic Showdowns')]"
            ]
          },
          "metadata": {},
          "execution_count": 51
        }
      ]
    }
  ]
}