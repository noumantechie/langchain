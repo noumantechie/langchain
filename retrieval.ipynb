{
  "nbformat": 4,
  "nbformat_minor": 0,
  "metadata": {
    "colab": {
      "provenance": [],
      "authorship_tag": "ABX9TyN2VJXoHTybw39tJ+PsmfaG",
      "include_colab_link": true
    },
    "kernelspec": {
      "name": "python3",
      "display_name": "Python 3"
    },
    "language_info": {
      "name": "python"
    }
  },
  "cells": [
    {
      "cell_type": "markdown",
      "metadata": {
        "id": "view-in-github",
        "colab_type": "text"
      },
      "source": [
        "<a href=\"https://colab.research.google.com/github/noumantechie/langchain/blob/main/retrieval.ipynb\" target=\"_parent\"><img src=\"https://colab.research.google.com/assets/colab-badge.svg\" alt=\"Open In Colab\"/></a>"
      ]
    },
    {
      "cell_type": "markdown",
      "source": [
        "**Webbase RAG APPLICATION**"
      ],
      "metadata": {
        "id": "6xIId9kfXx5P"
      }
    },
    {
      "cell_type": "code",
      "source": [
        "!pip install -qU beautifulsoup4 langchain-text-splitters langchain_huggingface \"langchain-chroma>=0.1.2\" langchain_google_genai langchain_core\n",
        "!pip install"
      ],
      "metadata": {
        "colab": {
          "base_uri": "https://localhost:8080/"
        },
        "id": "UlB7HIQTxnEj",
        "outputId": "3b63b1a1-3c9d-4445-d285-cc1c6d7bf15f"
      },
      "execution_count": 37,
      "outputs": [
        {
          "output_type": "stream",
          "name": "stdout",
          "text": [
            "Requirement already satisfied: beautifulsoup4 in /usr/local/lib/python3.10/dist-packages (4.13.3)\n",
            "Requirement already satisfied: soupsieve>1.2 in /usr/local/lib/python3.10/dist-packages (from beautifulsoup4) (2.6)\n",
            "Requirement already satisfied: typing-extensions>=4.0.0 in /usr/local/lib/python3.10/dist-packages (from beautifulsoup4) (4.12.2)\n"
          ]
        }
      ]
    },
    {
      "cell_type": "code",
      "source": [
        "from langchain_community.document_loaders import WebBaseLoader\n",
        "from langchain_text_splitters import RecursiveCharacterTextSplitter\n",
        "from langchain_google_genai import ChatGoogleGenerativeAI\n",
        "from langchain_huggingface import HuggingFaceEmbeddings\n",
        "from langchain_chroma import Chroma\n",
        "from langchain_core.prompts import PromptTemplate\n",
        "from langchain_core.runnables import RunnablePassthrough\n",
        "from langchain_core.output_parsers import StrOutputParser"
      ],
      "metadata": {
        "colab": {
          "base_uri": "https://localhost:8080/"
        },
        "id": "NTK4cPAD8oRL",
        "outputId": "0a45994e-977e-4de6-b8d0-5331e79f8edd"
      },
      "execution_count": 38,
      "outputs": [
        {
          "output_type": "stream",
          "name": "stderr",
          "text": [
            "WARNING:langchain_community.utils.user_agent:USER_AGENT environment variable not set, consider setting it to identify your requests.\n"
          ]
        }
      ]
    },
    {
      "cell_type": "code",
      "source": [
        "# Load the PDF file\n",
        "URL = \"https://www.euclea-b-school.com/deepseek-ai-vs-open-ai-a-comprehensive-comparison/\"\n",
        "loader = WebBaseLoader(URL)\n"
      ],
      "metadata": {
        "id": "Ieh7CEWlNoef"
      },
      "execution_count": 39,
      "outputs": []
    },
    {
      "cell_type": "code",
      "source": [
        "# Now use load_and_split()\n",
        "pages = loader.load_and_split()"
      ],
      "metadata": {
        "id": "I1yFPZmdN4Sj"
      },
      "execution_count": 40,
      "outputs": []
    },
    {
      "cell_type": "markdown",
      "source": [
        "**Step 2 Chunking**"
      ],
      "metadata": {
        "id": "0LYwrxZ2X4aW"
      }
    },
    {
      "cell_type": "code",
      "source": [
        "text_splitter = RecursiveCharacterTextSplitter(\n",
        "    # Set a really small chunk size, just to show.\n",
        "    chunk_size=200,\n",
        "    chunk_overlap=50,\n",
        ")\n",
        "chunks = text_splitter.split_documents(pages)"
      ],
      "metadata": {
        "id": "DFA8e9hzYP0j"
      },
      "execution_count": 41,
      "outputs": []
    },
    {
      "cell_type": "markdown",
      "source": [
        "**Step 3 Generate Embeddings **"
      ],
      "metadata": {
        "id": "vbxjpBmVviMe"
      }
    },
    {
      "cell_type": "code",
      "source": [
        "# Load an open-source Sentence Transformer model\n",
        "embeddings = HuggingFaceEmbeddings(model_name=\"all-MiniLM-L6-v2\")"
      ],
      "metadata": {
        "id": "fwwADWAowRt9"
      },
      "execution_count": 42,
      "outputs": []
    },
    {
      "cell_type": "markdown",
      "source": [
        "**Step 4 Semantic Search and Storing into Database**"
      ],
      "metadata": {
        "id": "acYqy4Jb0qtR"
      }
    },
    {
      "cell_type": "code",
      "source": [
        "vectorstore = Chroma.from_documents(documents=chunks , embedding=embeddings)"
      ],
      "metadata": {
        "id": "HYVzv_MQ2QvC"
      },
      "execution_count": 43,
      "outputs": []
    },
    {
      "cell_type": "code",
      "source": [
        "retriever = vectorstore.as_retriever()"
      ],
      "metadata": {
        "id": "Mst4YGmd9-rd"
      },
      "execution_count": 44,
      "outputs": []
    },
    {
      "cell_type": "code",
      "source": [
        "def format_docs(docs):\n",
        "  return \"\\n\\n\".join(doc.page_content for doc in docs)"
      ],
      "metadata": {
        "id": "vrFFk0L32gEX"
      },
      "execution_count": 45,
      "outputs": []
    },
    {
      "cell_type": "code",
      "source": [
        "from google.colab import userdata\n",
        "GOOGLE_API_KEY = userdata.get('GOOGLE_API_KEY')\n",
        "\n",
        "llm = ChatGoogleGenerativeAI(\n",
        "    model=\"gemini-1.5-flash\",\n",
        "    api_key=GOOGLE_API_KEY  # Corrected 'api_ket' to 'api_key'\n",
        ")"
      ],
      "metadata": {
        "id": "BL3Csnuz27BO"
      },
      "execution_count": 46,
      "outputs": []
    },
    {
      "cell_type": "code",
      "source": [
        "template = \"\"\"SYSTEM: You are a question-answering bot.\n",
        "              Be factual in your responses.\n",
        "              Respond to the following question only using the context provided below:\n",
        "              Question: {question}\n",
        "              Context: {context}\n",
        "              If you don't know the answer, just say that you don't know.\n",
        "\n",
        "              \"\"\"\n",
        "\n",
        "\n",
        "prompt = PromptTemplate.from_template(template)\n"
      ],
      "metadata": {
        "id": "_xKseUcu-bM4"
      },
      "execution_count": 47,
      "outputs": []
    },
    {
      "cell_type": "code",
      "source": [
        "chain = (\n",
        "    {\"context\": retriever | format_docs, \"question\": RunnablePassthrough()}\n",
        "    | prompt\n",
        "    | llm\n",
        "    | StrOutputParser()\n",
        ")\n"
      ],
      "metadata": {
        "id": "YQANlnGX_gkI"
      },
      "execution_count": 48,
      "outputs": []
    },
    {
      "cell_type": "code",
      "source": [
        "chain.invoke(\"Tell me the Strengths and Weaknesses?\")"
      ],
      "metadata": {
        "colab": {
          "base_uri": "https://localhost:8080/",
          "height": 53
        },
        "id": "1kD73UuA_zni",
        "outputId": "72edc0aa-b1f2-4e44-8ff8-c7ccce37a22a"
      },
      "execution_count": 52,
      "outputs": [
        {
          "output_type": "execute_result",
          "data": {
            "text/plain": [
              "'OpenAI Strengths: Advanced NLP capabilities, versatile and widely applicable, strong community and ecosystem, extensive documentation and support.  OpenAI Weaknesses:  The provided text does not list any weaknesses beyond the heading \"OpenAI Weaknesses:\".'"
            ],
            "application/vnd.google.colaboratory.intrinsic+json": {
              "type": "string"
            }
          },
          "metadata": {},
          "execution_count": 52
        }
      ]
    }
  ]
}