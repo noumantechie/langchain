{
  "nbformat": 4,
  "nbformat_minor": 0,
  "metadata": {
    "colab": {
      "provenance": [],
      "authorship_tag": "ABX9TyNJD5WzcXXhXb2FYWfGqBQj",
      "include_colab_link": true
    },
    "kernelspec": {
      "name": "python3",
      "display_name": "Python 3"
    },
    "language_info": {
      "name": "python"
    }
  },
  "cells": [
    {
      "cell_type": "markdown",
      "metadata": {
        "id": "view-in-github",
        "colab_type": "text"
      },
      "source": [
        "<a href=\"https://colab.research.google.com/github/noumantechie/langchain/blob/main/retrieval.ipynb\" target=\"_parent\"><img src=\"https://colab.research.google.com/assets/colab-badge.svg\" alt=\"Open In Colab\"/></a>"
      ]
    },
    {
      "cell_type": "code",
      "source": [
        "%pip install -qU langchain_community beautifulsoup4"
      ],
      "metadata": {
        "colab": {
          "base_uri": "https://localhost:8080/"
        },
        "id": "UlB7HIQTxnEj",
        "outputId": "6918a1b6-5a49-4e23-d4de-815a94fb4a3f"
      },
      "execution_count": 11,
      "outputs": [
        {
          "output_type": "stream",
          "name": "stdout",
          "text": [
            "\u001b[?25l   \u001b[90m━━━━━━━━━━━━━━━━━━━━━━━━━━━━━━━━━━━━━━━━\u001b[0m \u001b[32m0.0/186.0 kB\u001b[0m \u001b[31m?\u001b[0m eta \u001b[36m-:--:--\u001b[0m\r\u001b[2K   \u001b[90m━━━━━━━━━━━━━━━━━━━━━━━━━━━━━━━━━━━━━━━━\u001b[0m \u001b[32m186.0/186.0 kB\u001b[0m \u001b[31m10.4 MB/s\u001b[0m eta \u001b[36m0:00:00\u001b[0m\n",
            "\u001b[?25h"
          ]
        }
      ]
    },
    {
      "cell_type": "code",
      "source": [
        "from langchain_community.document_loaders import WebBaseLoader\n",
        "\n",
        "URL = \"https://www.euclea-b-school.com/deepseek-ai-vs-open-ai-a-comprehensive-comparison/\""
      ],
      "metadata": {
        "colab": {
          "base_uri": "https://localhost:8080/"
        },
        "id": "Ieh7CEWlNoef",
        "outputId": "aad7ceee-8267-4675-86f4-58bc0b0c1dca"
      },
      "execution_count": 12,
      "outputs": [
        {
          "output_type": "stream",
          "name": "stderr",
          "text": [
            "WARNING:langchain_community.utils.user_agent:USER_AGENT environment variable not set, consider setting it to identify your requests.\n"
          ]
        }
      ]
    },
    {
      "cell_type": "code",
      "source": [
        "loader = WebBaseLoader(URL)\n"
      ],
      "metadata": {
        "id": "I1yFPZmdN4Sj"
      },
      "execution_count": 13,
      "outputs": []
    },
    {
      "cell_type": "code",
      "source": [
        "data = loader.load()"
      ],
      "metadata": {
        "id": "B5JAN0MjPGJx"
      },
      "execution_count": 14,
      "outputs": []
    },
    {
      "cell_type": "code",
      "source": [
        "data"
      ],
      "metadata": {
        "colab": {
          "base_uri": "https://localhost:8080/"
        },
        "id": "QiZP34wfUlsC",
        "outputId": "c700a0f6-ebaf-4dce-a0e3-5450d8738404"
      },
      "execution_count": 15,
      "outputs": [
        {
          "output_type": "execute_result",
          "data": {
            "text/plain": [
              "[Document(metadata={'source': 'https://www.euclea-b-school.com/deepseek-ai-vs-open-ai-a-comprehensive-comparison/', 'title': 'Deepseek AI Vs Open AI: A Comprehensive Comparison - EUCLEA Business School', 'description': 'Deepseek AI vs OpenAI: Explore a comprehensive comparison of these AI giants. Discover their strengths, weaknesses, pricing, and ideal use cases.', 'language': 'en-US'}, page_content='\\n\\n\\n\\n\\n\\n\\n\\nDeepseek AI Vs Open AI: A Comprehensive Comparison - EUCLEA Business School\\n\\n\\n\\n\\n\\n\\n\\n\\n\\n\\n\\n\\n\\n\\n\\n\\n\\n\\n\\n\\n\\n\\n\\n\\n\\n\\n\\n\\n\\n\\n\\n\\n\\n\\n\\n\\n\\n\\n\\n\\n\\n\\n\\n\\n\\n\\n\\n\\n\\n\\n\\n\\n\\n\\n\\n\\n\\n\\n\\n\\n\\n\\n\\n\\n\\n\\n\\n\\n\\n\\n\\n\\n\\n\\n\\n\\n\\n\\n\\n\\n\\n\\n\\n\\n\\n\\n\\n\\n\\n\\n\\n\\n\\n\\n\\n\\n\\n\\n\\n\\n\\t\\tSkip to content\\n\\n\\nEUCLEA Business School\\n\\n\\n\\n\\n\\n\\n\\n\\n\\n\\n\\n\\n\\n \\n\\n\\n\\n\\n\\n\\n\\n\\n\\n\\n\\n\\n\\n\\n\\n\\n\\n\\n\\nMenu\\n\\n \\n\\n\\nAbout Us\\n\\nAbout\\nThe Collège De Paris\\n\\n\\nOur Campuses\\n\\nUAE\\nFrance\\n\\n\\nPartners\\nExecutive Education\\n\\nMasters of Business Administration (MBA)\\nMaster of Science (MSc)\\nDoctorate of Business Administration (DBA)\\n\\n\\n\\n\\n\\n\\n\\n\\n\\n\\n\\n\\n\\n\\n\\n\\nApply Now\\n\\n\\n\\n\\n\\n\\n\\n\\n\\n\\n\\n\\n\\n\\nContact Us\\n\\n\\n\\n\\n\\n\\n\\n\\n\\n\\n\\n\\n\\n\\n\\n\\n\\n\\n\\n\\n\\n\\n\\n\\n\\n \\n\\n\\n\\n\\n\\n\\n\\n\\n\\n\\n\\n\\n\\n\\n\\n\\n\\n\\n\\nMenu\\n\\n \\n\\n\\nAbout Us\\n\\nAbout\\nThe Collège De Paris\\n\\n\\nOur Campuses\\n\\nUAE\\nFrance\\n\\n\\nPartners\\nExecutive Education\\n\\nMasters of Business Administration (MBA)\\nMaster of Science (MSc)\\nDoctorate of Business Administration (DBA)\\n\\n\\n\\n\\n\\n\\n\\n\\n\\n\\n\\n\\n\\n\\n\\n\\nApply Now\\n\\n\\n\\n\\n\\n\\n\\n\\n\\n\\n\\n\\n\\n\\nContact Us\\n\\n\\n\\n\\n\\n\\n\\n\\n\\n\\n\\n\\n\\n\\n\\n\\n\\n\\n\\n\\n\\n\\n\\n\\n\\n\\n\\n\\n\\n\\n\\n\\n \\nApply Now\\n\\n\\n\\n\\n\\n \\nContact Us\\n\\n\\n\\n\\n\\n\\n\\n\\n\\n\\n\\n\\n\\n\\n\\n\\n\\n\\n\\n\\n\\n\\nDeepseek AI vs Open AI: A Comprehensive ComparisonBy  \\n\\n\\t\\t\\t\\tEuclea Editorial Team\\t\\t\\t\\n\\n\\n\\n\\t\\t /  January 30, 2025 \\n\\n\\n\\nThe field of artificial intelligence is rapidly evolving, with new players constantly emerging and challenging established giants. Two such contenders are Deepseek AI and OpenAI, both offering powerful AI models with unique strengths and capabilities. This article provides a comprehensive comparison of Deepseek AI and OpenAI, examining their core technologies, key features, pricing structures, and ideal use cases. \\xa0\\nCore Technologies and Architecture\\nOpenAI is renowned for its large language models (LLMs), most notably the GPT series (Generative Pre-trained Transformer). These models are trained on massive datasets of text and code, enabling them to generate human-like text, translate languages, write different kinds of creative content, and answer your questions in an informative way. OpenAI also develops other AI models for image generation (DALL-E) and code generation (Codex). \\xa0\\nDeepseek AI, while a newer entrant, has quickly gained recognition for its innovative approach to AI. Deepseek focuses on building modular and transparent AI solutions, with a strong emphasis on explainability and adaptability. This makes Deepseek particularly well-suited for industries like healthcare and finance, where understanding the reasoning behind AI decisions is crucial. Deepseek’s R1 model, for instance, leverages a hybrid training approach combining reinforcement learning with supervised fine-tuning, leading to impressive performance in reasoning-heavy tasks. \\xa0\\nKey Features and Capabilities\\nBoth Deepseek AI and OpenAI offer a range of powerful features, but their strengths lie in different areas: \\xa0\\nOpenAI excels in:\\n\\nNatural Language Processing (NLP): GPT models are known for their advanced NLP capabilities, enabling them to understand and generate human-like text with remarkable accuracy. \\xa0\\nCreative Content Generation: From writing stories and poems to composing emails and articles, OpenAI’s models can assist with various creative content needs. \\xa0\\nCode Generation: Codex, OpenAI’s code generation model, can help developers write code faster and more efficiently. \\xa0\\nGeneral Problem Solving: OpenAI’s models can be used for a wide range of tasks, including answering questions, summarizing text, and translating languages. \\xa0\\n\\nDeepseek AI stands out in:\\n\\nReasoning and Logic: Deepseek’s models, particularly R1, demonstrate strong performance in tasks requiring complex reasoning and logical deduction. \\xa0\\nMulti-language Support: Deepseek offers robust multi-language support, making it suitable for global applications. \\xa0\\nExplainability: Deepseek prioritises transparency and explainability, allowing users to understand how the AI arrives at its conclusions. \\xa0\\nCustomisability: Deepseek’s models are designed to be adaptable and customisable, catering to specific industry needs and requirements. \\xa0\\n\\nPricing and Accessibility\\nOpenAI offers a tiered pricing structure, with costs varying based on the model used and the volume of requests. While OpenAI provides free access to some of its models, more advanced features and higher usage limits come at a premium. \\xa0\\nDeepseek AI, on the other hand, is known for its affordability. Deepseek R1, for example, offers free access for up to 50 daily messages, and its API pricing is significantly lower than OpenAI’s. This makes Deepseek an attractive option for individuals and smaller organisations seeking powerful AI capabilities without the hefty price tag. \\xa0\\nUse Cases and Applications\\nOpenAI is a versatile tool with applications across various domains: \\xa0\\n\\nContent Creation: Writers, marketers, and content creators can leverage OpenAI’s models to generate high-quality content, from blog posts and social media updates to marketing copy and scripts. \\xa0\\nCustomer Service: OpenAI’s conversational AI capabilities can be used to build chatbots that provide efficient and engaging customer support. \\xa0\\nEducation: OpenAI’s models can assist students with learning, provide educators with tools for creating engaging content, and aid researchers in exploring complex topics. \\xa0\\n\\nDeepseek AI is particularly well-suited for specific industries and use cases:\\n\\nHealthcare: Deepseek’s explainable AI models can assist in medical diagnosis, treatment planning, and drug discovery, where transparency and accuracy are paramount. \\xa0\\nFinance: Deepseek can be used for fraud detection, risk assessment, and algorithmic trading, leveraging its strong reasoning and analytical capabilities. \\xa0\\nSoftware Development: Deepseek’s R1 model can help developers with code generation, debugging, and code optimisation. \\xa0\\nResearch: Deepseek’s adaptable models can be used for various research purposes, including data analysis, scientific discovery, and AI development. \\xa0\\n\\nStrengths and Weaknesses\\nOpenAI Strengths:\\n\\nAdvanced NLP capabilities\\nVersatile and widely applicable\\nStrong community and ecosystem\\nExtensive documentation and support\\n\\nOpenAI Weaknesses:\\n\\nCan be expensive for high-volume usage\\nLimited explainability in some models\\nPotential biases in training data\\n\\nDeepseek AI Strengths:\\n\\nAffordable and accessible\\nStrong focus on reasoning and logic\\nExcellent multi-language support\\nTransparent and explainable AI\\nHighly customisable models\\n\\nDeepseek AI Weaknesses:\\n\\nNewer player with a smaller community\\nMay not be as versatile as OpenAI for general tasks\\nStill under development with evolving capabilities\\n\\nBoth Deepseek AI and OpenAI offer powerful AI solutions, each with its own strengths and weaknesses. OpenAI is a more established player with advanced NLP capabilities and a wide range of applications. Deepseek AI, while newer, stands out with its affordability, focus on reasoning and explainability, and customisable models. \\xa0\\nData Privacy and Security\\nOpenAI: As a prominent player, OpenAI faces increasing scrutiny regarding data privacy. While they have implemented measures to protect user data, concerns remain about the vast amounts of information used to train their models and the potential for data misuse. The complexity of their models can also make it challenging to audit and ensure complete data security.\\nDeepseek AI: Deepseek’s focus on modularity and explainability could potentially offer advantages in data privacy. A more transparent architecture might make it easier to track data flow and identify potential vulnerabilities. Furthermore, their emphasis on efficiency could lead to models that require less data for training, reducing the risk of exposing sensitive information. However, it’s important to note that both companies must adhere to evolving data privacy regulations (like GDPR) and demonstrate robust security practices.\\nCustomisation and Fine-tuning\\nOpenAI: OpenAI offers fine-tuning capabilities, allowing users to adapt pre-trained models to specific tasks and datasets. This can significantly improve performance in niche areas. However, the process can be computationally expensive and require significant expertise.\\nDeepseek AI: Deepseek’s modular approach could facilitate easier customisation. The ability to modify and combine different components of their models might allow users to tailor them more precisely to their needs, potentially with less computational overhead. This could be a significant advantage for smaller organisations or researchers with limited resources. The emphasis on transparency might also make it easier to understand how fine-tuning affects the model’s behaviour.\\nExplainability and Trust\\nOpenAI: The “black box” nature of many OpenAI models is a significant challenge. Understanding why a model produces a particular output is often difficult, hindering trust and making it harder to identify and correct biases or errors. This is a major concern in critical applications where accountability is essential.\\nDeepseek AI: Deepseek’s focus on explainability aims to address this issue. By making their models more transparent, they hope to build greater trust and enable users to understand the reasoning behind their outputs. This is particularly important in regulated industries like finance and healthcare, where explainability is often a regulatory requirement.\\nCommunity and Ecosystem\\nOpenAI: OpenAI has a large and active community, with extensive documentation, tutorials, and third-party tools. This makes it easier for developers to get started and build applications using their models. The strong community also contributes to rapid innovation and the sharing of best practices.\\nDeepseek AI: As a newer player, Deepseek’s community is still growing. While they may not yet have the same level of community support as OpenAI, their focus on open collaboration and transparency could attract a dedicated following. Building a strong ecosystem will be crucial for their long-term success.\\nFocus on Specific Niches\\nOpenAI: OpenAI’s models are generally designed for broad applicability, targeting a wide range of tasks and industries. This makes them versatile but potentially less specialised for specific niches.\\nDeepseek AI: Deepseek’s focus on efficiency and reasoning could position them as leaders in specific niches, such as scientific research, code generation, and data analysis. By tailoring their models to these areas, they can potentially offer superior performance and value.\\nFuture Directions\\nBoth companies are likely to focus on improving the efficiency, explainability, and safety of their models. Multimodal capabilities, enabling models to process and generate different types of data (text, images, audio), will also be a key area of development. Furthermore, addressing ethical concerns related to bias, fairness, and the potential misuse of AI will be crucial for both companies.\\nIt’s important to remember that the field of AI is evolving at an incredibly rapid pace. The relative strengths and weaknesses of Deepseek AI and OpenAI will continue to shift as both companies innovate and develop new capabilities. Keeping a close eye on their progress will be essential for anyone looking to leverage the power of AI.\\n\\n\\n\\n\\nPost navigation\\n Previous  Mastering Global Business Dynamics: Your DBA Journey at Eucléa Next   Why Deepseek AI Could Disrupt the AI Landscape \\n \\n\\nLeave a Comment Cancel ReplyYour email address will not be published. Required fields are marked *Type here..\\n\\nName*\\n\\n\\n\\nEmail*\\n\\n\\n\\nWebsite\\n\\n\\n\\n Save my name, email, and website in this browser for the next time I comment.\\n \\n\\n \\n\\n\\n\\n \\n\\n\\n \\n\\n\\n\\n\\n\\n\\n\\nJoin Eucléa Business School Now! \\n\\n\\n\\nWould you like to join the Eucléa community?\\xa0The registration and admission procedure is simple and completely free.\\xa0We invite you to contact us to invite you to our admission sessions. \\n\\n\\n\\n\\n\\n\\n\\n\\n\\n\\nGet In Touch with Us\\n\\n\\n\\n\\n\\n\\n\\n\\n\\n\\n\\n\\n\\n\\n\\n\\n \\n\\n\\n\\n\\n\\n\\n\\n\\n\\n\\n\\n\\nFOLLOW US ON THE NETWORKS \\n\\n\\n\\n\\n\\n\\n\\n\\n\\n\\nFacebook\\n \\n\\n\\n\\nInstagram\\n \\n\\n\\n\\nYoutube\\n \\n\\n\\n\\nLinkedin\\n \\n\\n\\n\\n\\n\\n\\n\\n\\n\\n\\n\\n\\n\\n\\n© Copyright Eucléa Business School \\n\\n\\n\\n\\n\\n\\n \\n\\n\\n\\n\\n\\n\\n\\n\\n\\n\\n\\n\\n\\n\\n\\n\\n\\n\\n\\n\\n\\n\\n\\n\\n\\n\\n\\n\\n\\n\\n\\n\\n\\n\\n\\n\\n\\n\\n\\n\\n\\n\\n\\n\\n\\n\\n\\n\\n')]"
            ]
          },
          "metadata": {},
          "execution_count": 15
        }
      ]
    }
  ]
}