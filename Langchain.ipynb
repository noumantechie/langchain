{
  "nbformat": 4,
  "nbformat_minor": 0,
  "metadata": {
    "colab": {
      "provenance": [],
      "gpuType": "T4",
      "authorship_tag": "ABX9TyPezI+LPwqb3MmSn+bUUjWE",
      "include_colab_link": true
    },
    "kernelspec": {
      "name": "python3",
      "display_name": "Python 3"
    },
    "language_info": {
      "name": "python"
    }
  },
  "cells": [
    {
      "cell_type": "markdown",
      "metadata": {
        "id": "view-in-github",
        "colab_type": "text"
      },
      "source": [
        "<a href=\"https://colab.research.google.com/github/noumantechie/langchain/blob/main/Langchain.ipynb\" target=\"_parent\"><img src=\"https://colab.research.google.com/assets/colab-badge.svg\" alt=\"Open In Colab\"/></a>"
      ]
    },
    {
      "cell_type": "markdown",
      "source": [
        "Few Short Prompt Template :\n",
        "                              It can be constructing from either a set of examples. **bold text**"
      ],
      "metadata": {
        "id": "-NgOLwecYLXY"
      }
    },
    {
      "cell_type": "code",
      "source": [
        "!pip install langchain\n",
        "%pip install -qU langchain-google-genai\n",
        "\n"
      ],
      "metadata": {
        "id": "HXjK72MQgDah"
      },
      "execution_count": null,
      "outputs": []
    },
    {
      "cell_type": "markdown",
      "source": [
        "**Import the Specific Module Realted to few Prompt Template**"
      ],
      "metadata": {
        "id": "rJyUSxnkgpJO"
      }
    },
    {
      "cell_type": "code",
      "source": [
        "from langchain_google_genai import ChatGoogleGenerativeAI       # sdk\n",
        "from langchain.prompts import ChatPromptTemplate\n",
        "from langchain.prompts import FewShotChatMessagePromptTemplate  # feshot prompt template import\n"
      ],
      "metadata": {
        "id": "X6EPkMbpgm-R"
      },
      "execution_count": 33,
      "outputs": []
    },
    {
      "cell_type": "markdown",
      "source": [
        "**SetUp API KEY**"
      ],
      "metadata": {
        "id": "bko0cNFIgy5f"
      }
    },
    {
      "cell_type": "code",
      "source": [
        "from google.colab import userdata\n",
        "GOOGLE_API_KEY = userdata.get('GOOGLE_API_KEY')\n"
      ],
      "metadata": {
        "id": "QH6kDVzugx8V"
      },
      "execution_count": 34,
      "outputs": []
    },
    {
      "cell_type": "code",
      "source": [
        "# Ensure the API key is not None or empty\n",
        "if not GOOGLE_API_KEY:\n",
        "    raise ValueError(\"GOOGLE_API_KEY is missing. Please set it in Colab.\")"
      ],
      "metadata": {
        "id": "7y-Au5-1i_u1"
      },
      "execution_count": 35,
      "outputs": []
    },
    {
      "cell_type": "markdown",
      "source": [
        "**Initialize the Chat Generation Model**"
      ],
      "metadata": {
        "id": "ysa2fRLkwkFZ"
      }
    },
    {
      "cell_type": "code",
      "source": [
        "llm = ChatGoogleGenerativeAI(\n",
        "    model=\"gemini-1.5-flash\",\n",
        "    api_key = GOOGLE_API_KEY\n",
        ")"
      ],
      "metadata": {
        "id": "jLPA3pCLwh1T"
      },
      "execution_count": 36,
      "outputs": []
    },
    {
      "cell_type": "markdown",
      "source": [
        "**Set of examples that require to Train LLM**\n",
        "\n"
      ],
      "metadata": {
        "id": "tjHue33992Tr"
      }
    },
    {
      "cell_type": "code",
      "source": [
        "examples = [\n",
        "\n",
        "    {\"input\": \"India\" , \"output\" : \"aidnI\"},\n",
        "    {\"input\": \"Canada\" , \"output\" : \"adanaC\"},\n",
        "    {\"input\": \"Australia\" , \"output\" : \"ailartsuA\"},\n",
        "]\n",
        "\n",
        ""
      ],
      "metadata": {
        "id": "TYlcyzrc8lBe"
      },
      "execution_count": 40,
      "outputs": []
    },
    {
      "cell_type": "markdown",
      "source": [
        "**Make examples into the form of message**\n",
        "\n",
        "\n"
      ],
      "metadata": {
        "id": "M05E8MLE98rU"
      }
    },
    {
      "cell_type": "code",
      "source": [
        "example_prompt = ChatPromptTemplate.from_messages(\n",
        "    [\n",
        "        (\"human\", \"{input}\"),\n",
        "        (\"ai\", \"{output}\"),\n",
        "    ]\n",
        ")"
      ],
      "metadata": {
        "id": "Tz6mXl7c8x1C"
      },
      "execution_count": 56,
      "outputs": []
    },
    {
      "cell_type": "markdown",
      "source": [
        "**Make a few shot prompt by passing examples and examples prompt**"
      ],
      "metadata": {
        "id": "WpYzL4sB-F5-"
      }
    },
    {
      "cell_type": "code",
      "source": [
        "few_shot_prompt = FewShotChatMessagePromptTemplate(\n",
        "    example_prompt=example_prompt,       # examples prompt\n",
        "    examples=examples,                   # examples\n",
        ")"
      ],
      "metadata": {
        "id": "H7O83k8x9BWf"
      },
      "execution_count": 42,
      "outputs": []
    },
    {
      "cell_type": "code",
      "source": [
        "print(few_shot_prompt.format())"
      ],
      "metadata": {
        "colab": {
          "base_uri": "https://localhost:8080/"
        },
        "id": "Yvp6K5w59bh8",
        "outputId": "e2201c08-529c-48a0-fe36-a075fbef6ff9"
      },
      "execution_count": 43,
      "outputs": [
        {
          "output_type": "stream",
          "name": "stdout",
          "text": [
            "Human: India\n",
            "AI: aidnI\n",
            "Human: Canada\n",
            "AI: adanaC\n",
            "Human: Australia\n",
            "AI: ailartsuA\n"
          ]
        }
      ]
    },
    {
      "cell_type": "markdown",
      "source": [
        "**Make Prompt Template using few short prompt and input from human message using placeholder**"
      ],
      "metadata": {
        "id": "Vg5pEBbgXung"
      }
    },
    {
      "cell_type": "code",
      "source": [
        "prompt_template = ChatPromptTemplate.from_messages(\n",
        "    [\n",
        "        (\"system\" , \"You are a linguistic specialist.\"),\n",
        "        few_shot_prompt,\n",
        "        (\"human\", \"{input}\"),\n",
        "    ]\n",
        ")"
      ],
      "metadata": {
        "id": "S7OP8Fnf-YYE"
      },
      "execution_count": 44,
      "outputs": []
    },
    {
      "cell_type": "code",
      "source": [
        "prompt_template"
      ],
      "metadata": {
        "colab": {
          "base_uri": "https://localhost:8080/"
        },
        "id": "EnpQ-SFx-i_F",
        "outputId": "47d3d8cf-8f1f-4801-80d5-eb03fcd82e56"
      },
      "execution_count": 46,
      "outputs": [
        {
          "output_type": "execute_result",
          "data": {
            "text/plain": [
              "ChatPromptTemplate(input_variables=['input'], input_types={}, partial_variables={}, messages=[SystemMessagePromptTemplate(prompt=PromptTemplate(input_variables=[], input_types={}, partial_variables={}, template='You are a linguistic specialist.'), additional_kwargs={}), FewShotChatMessagePromptTemplate(examples=[{'input': 'India', 'output': 'aidnI'}, {'input': 'Canada', 'output': 'adanaC'}, {'input': 'Australia', 'output': 'ailartsuA'}], input_variables=[], input_types={}, partial_variables={}, example_prompt=ChatPromptTemplate(input_variables=['input', 'output'], input_types={}, partial_variables={}, messages=[HumanMessagePromptTemplate(prompt=PromptTemplate(input_variables=['input'], input_types={}, partial_variables={}, template='{input}'), additional_kwargs={}), AIMessagePromptTemplate(prompt=PromptTemplate(input_variables=['output'], input_types={}, partial_variables={}, template='{output}'), additional_kwargs={})])), HumanMessagePromptTemplate(prompt=PromptTemplate(input_variables=['input'], input_types={}, partial_variables={}, template='{input}'), additional_kwargs={})])"
            ]
          },
          "metadata": {},
          "execution_count": 46
        }
      ]
    },
    {
      "cell_type": "markdown",
      "source": [
        "**Make a Prompt from prompt Template**"
      ],
      "metadata": {
        "id": "uAxi93PiX7Ai"
      }
    },
    {
      "cell_type": "code",
      "source": [
        "prompt = prompt_template.format_messages(input=\"Brazil\")"
      ],
      "metadata": {
        "id": "FBmXDAk2-k3X"
      },
      "execution_count": 53,
      "outputs": []
    },
    {
      "cell_type": "code",
      "source": [
        "prompt"
      ],
      "metadata": {
        "colab": {
          "base_uri": "https://localhost:8080/"
        },
        "id": "91lVjHuLVebV",
        "outputId": "c6da5b35-2f60-45fd-cb57-9fdc984c3cc8"
      },
      "execution_count": 52,
      "outputs": [
        {
          "output_type": "execute_result",
          "data": {
            "text/plain": [
              "[SystemMessage(content='You are a linguistic specialist.', additional_kwargs={}, response_metadata={}),\n",
              " HumanMessage(content='India', additional_kwargs={}, response_metadata={}),\n",
              " AIMessage(content='aidnI', additional_kwargs={}, response_metadata={}),\n",
              " HumanMessage(content='Canada', additional_kwargs={}, response_metadata={}),\n",
              " AIMessage(content='adanaC', additional_kwargs={}, response_metadata={}),\n",
              " HumanMessage(content='Australia', additional_kwargs={}, response_metadata={}),\n",
              " AIMessage(content='ailartsuA', additional_kwargs={}, response_metadata={}),\n",
              " HumanMessage(content='Brazil', additional_kwargs={}, response_metadata={})]"
            ]
          },
          "metadata": {},
          "execution_count": 52
        }
      ]
    },
    {
      "cell_type": "code",
      "source": [
        "response=llm.invoke(prompt)"
      ],
      "metadata": {
        "id": "rhn6LtOpWILN"
      },
      "execution_count": 54,
      "outputs": []
    },
    {
      "cell_type": "code",
      "source": [
        "response.content"
      ],
      "metadata": {
        "colab": {
          "base_uri": "https://localhost:8080/",
          "height": 36
        },
        "id": "hUiFFYOzWTml",
        "outputId": "1a3e0e02-0d05-48b6-84af-a96d6292161a"
      },
      "execution_count": 55,
      "outputs": [
        {
          "output_type": "execute_result",
          "data": {
            "text/plain": [
              "'lazirB'"
            ],
            "application/vnd.google.colaboratory.intrinsic+json": {
              "type": "string"
            }
          },
          "metadata": {},
          "execution_count": 55
        }
      ]
    }
  ]
}