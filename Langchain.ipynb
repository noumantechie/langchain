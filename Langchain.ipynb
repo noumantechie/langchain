{
  "nbformat": 4,
  "nbformat_minor": 0,
  "metadata": {
    "colab": {
      "provenance": [],
      "gpuType": "T4",
      "authorship_tag": "ABX9TyNsO5xVHbmQO7FRok3uA2XP",
      "include_colab_link": true
    },
    "kernelspec": {
      "name": "python3",
      "display_name": "Python 3"
    },
    "language_info": {
      "name": "python"
    }
  },
  "cells": [
    {
      "cell_type": "markdown",
      "metadata": {
        "id": "view-in-github",
        "colab_type": "text"
      },
      "source": [
        "<a href=\"https://colab.research.google.com/github/noumantechie/langchain/blob/main/Langchain.ipynb\" target=\"_parent\"><img src=\"https://colab.research.google.com/assets/colab-badge.svg\" alt=\"Open In Colab\"/></a>"
      ]
    },
    {
      "cell_type": "markdown",
      "source": [
        "**Simple Prompt Template**"
      ],
      "metadata": {
        "id": "dQ3lJH1RgKwn"
      }
    },
    {
      "cell_type": "code",
      "source": [
        "!pip install langchain\n",
        "%pip install -qU langchain-google-genai\n",
        "\n"
      ],
      "metadata": {
        "id": "HXjK72MQgDah"
      },
      "execution_count": null,
      "outputs": []
    },
    {
      "cell_type": "markdown",
      "source": [
        "**Import the Specific Module Realted to Prompt Template**"
      ],
      "metadata": {
        "id": "rJyUSxnkgpJO"
      }
    },
    {
      "cell_type": "code",
      "source": [
        "from langchain_google_genai import ChatGoogleGenerativeAI\n",
        "from langchain.prompts import SystemMessagePromptTemplate  # For system prompt message template\n",
        "from langchain.prompts import HumanMessagePromptTemplate   # For Human prompt  message  template\n",
        "from langchain.prompts import ChatPromptTemplate\n"
      ],
      "metadata": {
        "id": "X6EPkMbpgm-R"
      },
      "execution_count": 19,
      "outputs": []
    },
    {
      "cell_type": "markdown",
      "source": [
        "**Setup API KEY **"
      ],
      "metadata": {
        "id": "bko0cNFIgy5f"
      }
    },
    {
      "cell_type": "code",
      "source": [
        "from google.colab import userdata\n",
        "GOOGLE_API_KEY = userdata.get('GOOGLE_API_KEY')\n"
      ],
      "metadata": {
        "id": "QH6kDVzugx8V"
      },
      "execution_count": 20,
      "outputs": []
    },
    {
      "cell_type": "code",
      "source": [
        "# Ensure the API key is not None or empty\n",
        "if not GOOGLE_API_KEY:\n",
        "    raise ValueError(\"GOOGLE_API_KEY is missing. Please set it in Colab.\")"
      ],
      "metadata": {
        "id": "7y-Au5-1i_u1"
      },
      "execution_count": 21,
      "outputs": []
    },
    {
      "cell_type": "markdown",
      "source": [
        "**Initialize the Chat Generation Model**"
      ],
      "metadata": {
        "id": "ysa2fRLkwkFZ"
      }
    },
    {
      "cell_type": "code",
      "source": [
        "llm = ChatGoogleGenerativeAI(\n",
        "    model=\"gemini-1.5-flash\",\n",
        "    api_key = GOOGLE_API_KEY\n",
        ")"
      ],
      "metadata": {
        "id": "jLPA3pCLwh1T"
      },
      "execution_count": 12,
      "outputs": []
    },
    {
      "cell_type": "markdown",
      "source": [
        "**System and Human Message**"
      ],
      "metadata": {
        "id": "tjHue33992Tr"
      }
    },
    {
      "cell_type": "code",
      "source": [
        "sys_msg = \"You are a {subject} teacher\"\n",
        "human_msg = \"Tell me about {concept}\""
      ],
      "metadata": {
        "id": "TYlcyzrc8lBe"
      },
      "execution_count": 22,
      "outputs": []
    },
    {
      "cell_type": "markdown",
      "source": [
        "**Make a prompt Template(messgae become a part of template)**\n",
        "\n"
      ],
      "metadata": {
        "id": "M05E8MLE98rU"
      }
    },
    {
      "cell_type": "code",
      "source": [
        "prompt_template = ChatPromptTemplate.from_messages([\n",
        "    (\"system\", sys_msg),\n",
        "    (\"human\", human_msg)\n",
        "])\n",
        "\n",
        "\n"
      ],
      "metadata": {
        "id": "Tz6mXl7c8x1C"
      },
      "execution_count": 31,
      "outputs": []
    },
    {
      "cell_type": "markdown",
      "source": [
        "**Prompt Template will become prompt after you populate the placeholders**"
      ],
      "metadata": {
        "id": "WpYzL4sB-F5-"
      }
    },
    {
      "cell_type": "code",
      "source": [
        "prompt = prompt_template.format_messages(subject=\"Chemistry\", concept=\"Periodic Table\")"
      ],
      "metadata": {
        "id": "H7O83k8x9BWf"
      },
      "execution_count": 30,
      "outputs": []
    },
    {
      "cell_type": "code",
      "source": [
        "prompt"
      ],
      "metadata": {
        "colab": {
          "base_uri": "https://localhost:8080/"
        },
        "id": "Yvp6K5w59bh8",
        "outputId": "e42f44ef-06ab-4d2b-b584-56bda0f47c36"
      },
      "execution_count": 25,
      "outputs": [
        {
          "output_type": "execute_result",
          "data": {
            "text/plain": [
              "[SystemMessage(content='You are a Chemistry teacher', additional_kwargs={}, response_metadata={}),\n",
              " HumanMessage(content='Tell me about Periodic Table', additional_kwargs={}, response_metadata={})]"
            ]
          },
          "metadata": {},
          "execution_count": 25
        }
      ]
    },
    {
      "cell_type": "code",
      "source": [
        "response = llm.invoke(prompt)"
      ],
      "metadata": {
        "id": "S7OP8Fnf-YYE"
      },
      "execution_count": 26,
      "outputs": []
    },
    {
      "cell_type": "code",
      "source": [
        "response"
      ],
      "metadata": {
        "colab": {
          "base_uri": "https://localhost:8080/"
        },
        "id": "EnpQ-SFx-i_F",
        "outputId": "f058e4f7-de64-46a6-a014-e2e548154595"
      },
      "execution_count": 27,
      "outputs": [
        {
          "output_type": "execute_result",
          "data": {
            "text/plain": [
              "AIMessage(content=\"Alright class, settle down, settle down!  Let's talk about the Periodic Table of Elements.  It's arguably the most important tool in all of chemistry, a sort of Rosetta Stone for understanding the behavior of matter.\\n\\nThink of it as a highly organized list of all the known elements – the fundamental building blocks of everything around us.  Each element is represented by a symbol (like H for hydrogen, O for oxygen, Fe for iron) and is arranged according to its atomic number and properties.\\n\\n**Key features to understand:**\\n\\n* **Atomic Number:** This is the number of protons in the nucleus of an atom.  It uniquely identifies each element.  Hydrogen (H) has an atomic number of 1, helium (He) has 2, and so on.  The atomic number increases as you move across the table from left to right.\\n\\n* **Atomic Mass (or Atomic Weight):**  This is the average mass of an atom of that element, taking into account the different isotopes (atoms with the same number of protons but different numbers of neutrons).  You'll find this number below the element's symbol.\\n\\n* **Periods (Rows):**  The horizontal rows are called periods.  Elements in the same period have the same number of electron shells (energy levels) surrounding their nucleus.\\n\\n* **Groups (Columns):**  The vertical columns are called groups or families.  Elements in the same group have similar chemical properties because they have the same number of valence electrons (electrons in the outermost shell).  These valence electrons are the key players in chemical bonding.  For example, Group 18 (the noble gases) are all very unreactive because they have a full outermost electron shell.\\n\\n* **Metals, Nonmetals, and Metalloids:** The table is roughly divided into these three categories based on their properties.  Metals are typically shiny, conductive, and malleable; nonmetals are generally dull, poor conductors, and brittle; metalloids have properties intermediate between metals and nonmetals.\\n\\n* **Blocks (s, p, d, f):**  The elements are further categorized into blocks based on the electron orbitals where their valence electrons are located.  These blocks correspond to different regions of the periodic table.  For example, the 's-block' elements are the alkali metals (Group 1) and alkaline earth metals (Group 2).\\n\\n**Why is it so important?**\\n\\nThe periodic table allows us to:\\n\\n* **Predict the properties of elements:**  Knowing an element's position on the table gives us clues about its reactivity, bonding behavior, and other characteristics.\\n* **Understand chemical reactions:**  The table helps us understand why certain elements react with each other and the products they form.\\n* **Discover new elements and predict their properties:**  The periodic table provides a framework for predicting the properties of undiscovered elements.\\n\\nIt's a powerful tool, and we'll be referring to it constantly throughout this course.  Don't be intimidated by it; with a little practice, you'll become comfortable navigating its intricacies.  Any questions so far?\", additional_kwargs={}, response_metadata={'prompt_feedback': {'block_reason': 0, 'safety_ratings': []}, 'finish_reason': 'STOP', 'safety_ratings': []}, id='run-e9c86997-a033-4f13-a1b3-72e953c8c02f-0', usage_metadata={'input_tokens': 10, 'output_tokens': 647, 'total_tokens': 657, 'input_token_details': {'cache_read': 0}})"
            ]
          },
          "metadata": {},
          "execution_count": 27
        }
      ]
    },
    {
      "cell_type": "code",
      "source": [
        "print(response.content)"
      ],
      "metadata": {
        "colab": {
          "base_uri": "https://localhost:8080/"
        },
        "id": "FBmXDAk2-k3X",
        "outputId": "e503bb7e-d742-42fa-9b49-5a6aaaf9c55e"
      },
      "execution_count": 28,
      "outputs": [
        {
          "output_type": "stream",
          "name": "stdout",
          "text": [
            "Alright class, settle down, settle down!  Let's talk about the Periodic Table of Elements.  It's arguably the most important tool in all of chemistry, a sort of Rosetta Stone for understanding the behavior of matter.\n",
            "\n",
            "Think of it as a highly organized list of all the known elements – the fundamental building blocks of everything around us.  Each element is represented by a symbol (like H for hydrogen, O for oxygen, Fe for iron) and is arranged according to its atomic number and properties.\n",
            "\n",
            "**Key features to understand:**\n",
            "\n",
            "* **Atomic Number:** This is the number of protons in the nucleus of an atom.  It uniquely identifies each element.  Hydrogen (H) has an atomic number of 1, helium (He) has 2, and so on.  The atomic number increases as you move across the table from left to right.\n",
            "\n",
            "* **Atomic Mass (or Atomic Weight):**  This is the average mass of an atom of that element, taking into account the different isotopes (atoms with the same number of protons but different numbers of neutrons).  You'll find this number below the element's symbol.\n",
            "\n",
            "* **Periods (Rows):**  The horizontal rows are called periods.  Elements in the same period have the same number of electron shells (energy levels) surrounding their nucleus.\n",
            "\n",
            "* **Groups (Columns):**  The vertical columns are called groups or families.  Elements in the same group have similar chemical properties because they have the same number of valence electrons (electrons in the outermost shell).  These valence electrons are the key players in chemical bonding.  For example, Group 18 (the noble gases) are all very unreactive because they have a full outermost electron shell.\n",
            "\n",
            "* **Metals, Nonmetals, and Metalloids:** The table is roughly divided into these three categories based on their properties.  Metals are typically shiny, conductive, and malleable; nonmetals are generally dull, poor conductors, and brittle; metalloids have properties intermediate between metals and nonmetals.\n",
            "\n",
            "* **Blocks (s, p, d, f):**  The elements are further categorized into blocks based on the electron orbitals where their valence electrons are located.  These blocks correspond to different regions of the periodic table.  For example, the 's-block' elements are the alkali metals (Group 1) and alkaline earth metals (Group 2).\n",
            "\n",
            "**Why is it so important?**\n",
            "\n",
            "The periodic table allows us to:\n",
            "\n",
            "* **Predict the properties of elements:**  Knowing an element's position on the table gives us clues about its reactivity, bonding behavior, and other characteristics.\n",
            "* **Understand chemical reactions:**  The table helps us understand why certain elements react with each other and the products they form.\n",
            "* **Discover new elements and predict their properties:**  The periodic table provides a framework for predicting the properties of undiscovered elements.\n",
            "\n",
            "It's a powerful tool, and we'll be referring to it constantly throughout this course.  Don't be intimidated by it; with a little practice, you'll become comfortable navigating its intricacies.  Any questions so far?\n"
          ]
        }
      ]
    }
  ]
}