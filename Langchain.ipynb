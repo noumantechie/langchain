{
  "nbformat": 4,
  "nbformat_minor": 0,
  "metadata": {
    "colab": {
      "provenance": [],
      "gpuType": "T4",
      "authorship_tag": "ABX9TyMyHOeWmSAGM+LOWFiodKBO",
      "include_colab_link": true
    },
    "kernelspec": {
      "name": "python3",
      "display_name": "Python 3"
    },
    "language_info": {
      "name": "python"
    }
  },
  "cells": [
    {
      "cell_type": "markdown",
      "metadata": {
        "id": "view-in-github",
        "colab_type": "text"
      },
      "source": [
        "<a href=\"https://colab.research.google.com/github/noumantechie/langchain/blob/main/Langchain.ipynb\" target=\"_parent\"><img src=\"https://colab.research.google.com/assets/colab-badge.svg\" alt=\"Open In Colab\"/></a>"
      ]
    },
    {
      "cell_type": "markdown",
      "source": [
        "**`Simple Chat Model LLM Using Gemini`**"
      ],
      "metadata": {
        "id": "dQ3lJH1RgKwn"
      }
    },
    {
      "cell_type": "code",
      "source": [
        "!pip install langchain\n",
        "%pip install -qU langchain-google-genai\n"
      ],
      "metadata": {
        "id": "HXjK72MQgDah"
      },
      "execution_count": 1,
      "outputs": []
    },
    {
      "cell_type": "markdown",
      "source": [
        "**Import the Specific Module**"
      ],
      "metadata": {
        "id": "rJyUSxnkgpJO"
      }
    },
    {
      "cell_type": "code",
      "source": [
        "from langchain_google_genai import ChatGoogleGenerativeAI\n",
        "from langchain.schema import SystemMessage, HumanMessage  # For system and human message\n",
        "\n"
      ],
      "metadata": {
        "id": "X6EPkMbpgm-R"
      },
      "execution_count": 3,
      "outputs": []
    },
    {
      "cell_type": "markdown",
      "source": [
        "**Setup API KEY **"
      ],
      "metadata": {
        "id": "bko0cNFIgy5f"
      }
    },
    {
      "cell_type": "code",
      "source": [
        "from google.colab import userdata\n",
        "GOOGLE_API_KEY = userdata.get('GOOGLE_API_KEY')\n"
      ],
      "metadata": {
        "id": "QH6kDVzugx8V"
      },
      "execution_count": 10,
      "outputs": []
    },
    {
      "cell_type": "code",
      "source": [
        "# Ensure the API key is not None or empty\n",
        "if not GOOGLE_API_KEY:\n",
        "    raise ValueError(\"GOOGLE_API_KEY is missing. Please set it in Colab.\")"
      ],
      "metadata": {
        "id": "7y-Au5-1i_u1"
      },
      "execution_count": 11,
      "outputs": []
    },
    {
      "cell_type": "markdown",
      "source": [
        "**Initialize the Chat Generation Model**"
      ],
      "metadata": {
        "id": "ysa2fRLkwkFZ"
      }
    },
    {
      "cell_type": "code",
      "source": [
        "llm = ChatGoogleGenerativeAI(\n",
        "    model=\"gemini-1.5-flash\",\n",
        "    api_key = GOOGLE_API_KEY\n",
        ")"
      ],
      "metadata": {
        "id": "jLPA3pCLwh1T"
      },
      "execution_count": 12,
      "outputs": []
    },
    {
      "cell_type": "markdown",
      "source": [
        "**System Message**"
      ],
      "metadata": {
        "id": "Yu1Uyg17vq2M"
      }
    },
    {
      "cell_type": "code",
      "source": [
        "sysmessage = \"You are a physics teacher\""
      ],
      "metadata": {
        "id": "2XjOgzKHvk2e"
      },
      "execution_count": 4,
      "outputs": []
    },
    {
      "cell_type": "markdown",
      "source": [
        "**Human Message**"
      ],
      "metadata": {
        "id": "V8dzm9JYwuYk"
      }
    },
    {
      "cell_type": "code",
      "source": [
        "humanmessage = \"Explain the concept of Galaxy\""
      ],
      "metadata": {
        "id": "XB3GCaVJvt-_"
      },
      "execution_count": 5,
      "outputs": []
    },
    {
      "cell_type": "code",
      "source": [
        "messages = [\n",
        "    SystemMessage(content=sysmessage),\n",
        "    HumanMessage(content=humanmessage),\n",
        "]"
      ],
      "metadata": {
        "id": "E5yIxmNEv3F5"
      },
      "execution_count": 13,
      "outputs": []
    },
    {
      "cell_type": "code",
      "source": [
        "response = llm.invoke(messages)\n"
      ],
      "metadata": {
        "id": "cNCTnxUuwLx4"
      },
      "execution_count": 14,
      "outputs": []
    },
    {
      "cell_type": "code",
      "source": [
        "response"
      ],
      "metadata": {
        "colab": {
          "base_uri": "https://localhost:8080/"
        },
        "id": "M0vgb4zaxsnW",
        "outputId": "7b2ac820-cc59-4102-f0e8-707142dd1411"
      },
      "execution_count": 15,
      "outputs": [
        {
          "output_type": "execute_result",
          "data": {
            "text/plain": [
              "AIMessage(content=\"Alright class, let's talk about galaxies!\\n\\nImagine the night sky.  On a clear, dark night, away from city lights, you can see thousands of stars.  But those stars aren't just randomly scattered across the universe. They're organized into vast, swirling collections called **galaxies**.\\n\\nThink of a galaxy as a giant cosmic city, but instead of buildings and people, it's filled with billions or even trillions of stars, along with gas, dust, and dark matter.  These components are all bound together by gravity, holding the entire system in a relatively stable structure.\\n\\nHere's a breakdown of key concepts:\\n\\n* **Stars:**  The most obvious component.  These are massive, luminous spheres of plasma held together by their own gravity.  Our Sun is just one star in our galaxy.\\n\\n* **Gas and Dust:**  This interstellar medium fills the space between stars.  It's mostly hydrogen and helium, the most abundant elements in the universe, but also contains heavier elements.  This gas and dust is crucial for the formation of new stars.\\n\\n* **Dark Matter:** This is a mysterious substance that we can't directly observe, but we know it exists because of its gravitational effects on visible matter.  It makes up a significant portion of a galaxy's mass and plays a crucial role in its structure and evolution.\\n\\n* **Types of Galaxies:** Galaxies come in various shapes and sizes.  The main types include:\\n    * **Spiral Galaxies:** These have a central bulge and spiral arms extending outwards.  Our Milky Way galaxy is a spiral galaxy.\\n    * **Elliptical Galaxies:** These are smooth, oval-shaped galaxies, ranging from nearly spherical to very elongated.\\n    * **Irregular Galaxies:** These don't have a regular shape and often appear chaotic.  They are often smaller than spiral or elliptical galaxies.\\n\\n* **Galaxy Clusters and Superclusters:** Galaxies aren't isolated; they often cluster together.  Groups of galaxies form galaxy clusters, and clusters of clusters form even larger structures called superclusters.  These are the largest known gravitationally bound structures in the universe.\\n\\n* **Formation and Evolution:**  Galaxies formed early in the universe's history from the gravitational collapse of gas clouds.  They continue to evolve through processes like star formation, galaxy mergers, and interactions with other galaxies.\\n\\nSo, in short, a galaxy is a vast, gravitationally bound system containing billions or trillions of stars, gas, dust, and dark matter, organized into various shapes and sizes.  Understanding galaxies is key to understanding the universe's structure and evolution.  Are there any questions?\", additional_kwargs={}, response_metadata={'prompt_feedback': {'block_reason': 0, 'safety_ratings': []}, 'finish_reason': 'STOP', 'safety_ratings': []}, id='run-869d460c-abde-48d0-a04a-ec6ea42dc017-0', usage_metadata={'input_tokens': 10, 'output_tokens': 559, 'total_tokens': 569, 'input_token_details': {'cache_read': 0}})"
            ]
          },
          "metadata": {},
          "execution_count": 15
        }
      ]
    }
  ]
}