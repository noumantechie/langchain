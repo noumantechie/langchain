{
  "nbformat": 4,
  "nbformat_minor": 0,
  "metadata": {
    "colab": {
      "provenance": [],
      "gpuType": "T4",
      "authorship_tag": "ABX9TyP6CssSWniweGpK8hyemcBh",
      "include_colab_link": true
    },
    "kernelspec": {
      "name": "python3",
      "display_name": "Python 3"
    },
    "language_info": {
      "name": "python"
    }
  },
  "cells": [
    {
      "cell_type": "markdown",
      "metadata": {
        "id": "view-in-github",
        "colab_type": "text"
      },
      "source": [
        "<a href=\"https://colab.research.google.com/github/noumantechie/langchain/blob/main/Langchain.ipynb\" target=\"_parent\"><img src=\"https://colab.research.google.com/assets/colab-badge.svg\" alt=\"Open In Colab\"/></a>"
      ]
    },
    {
      "cell_type": "markdown",
      "source": [
        "**`Simple Text Generation LLM Using Gemini`**"
      ],
      "metadata": {
        "id": "dQ3lJH1RgKwn"
      }
    },
    {
      "cell_type": "code",
      "source": [
        "!pip install langchain\n",
        "%pip install -qU langchain-google-genai\n"
      ],
      "metadata": {
        "id": "HXjK72MQgDah"
      },
      "execution_count": null,
      "outputs": []
    },
    {
      "cell_type": "markdown",
      "source": [
        "**Import the Specific Module**"
      ],
      "metadata": {
        "id": "rJyUSxnkgpJO"
      }
    },
    {
      "cell_type": "code",
      "source": [
        "from langchain_google_genai import GoogleGenerativeAI\n"
      ],
      "metadata": {
        "id": "X6EPkMbpgm-R"
      },
      "execution_count": 3,
      "outputs": []
    },
    {
      "cell_type": "markdown",
      "source": [
        "**Setup API KEY **"
      ],
      "metadata": {
        "id": "bko0cNFIgy5f"
      }
    },
    {
      "cell_type": "code",
      "source": [
        "from google.colab import userdata\n",
        "GOOGLE_API_KEY = userdata.get('GOOGLE_API_KEY')\n"
      ],
      "metadata": {
        "id": "QH6kDVzugx8V"
      },
      "execution_count": 9,
      "outputs": []
    },
    {
      "cell_type": "code",
      "source": [
        "# Ensure the API key is not None or empty\n",
        "if not GOOGLE_API_KEY:\n",
        "    raise ValueError(\"GOOGLE_API_KEY is missing. Please set it in Colab.\")"
      ],
      "metadata": {
        "id": "7y-Au5-1i_u1"
      },
      "execution_count": 10,
      "outputs": []
    },
    {
      "cell_type": "markdown",
      "source": [
        "**Initialize the text generation model**"
      ],
      "metadata": {
        "id": "9G1tKauMiHLt"
      }
    },
    {
      "cell_type": "code",
      "source": [
        "llm = GoogleGenerativeAI(\n",
        "    model=\"gemini-1.5-flash\",\n",
        "    api_key = GOOGLE_API_KEY\n",
        ")"
      ],
      "metadata": {
        "id": "Y3JQa1jKhEIE"
      },
      "execution_count": 11,
      "outputs": []
    },
    {
      "cell_type": "markdown",
      "source": [
        "**Text to Text Generation**"
      ],
      "metadata": {
        "id": "DuCDj13sjbmP"
      }
    },
    {
      "cell_type": "code",
      "source": [
        "text = \"Write a short paragraph about artificial intelligence.\""
      ],
      "metadata": {
        "id": "kBsY78zRjagD"
      },
      "execution_count": 15,
      "outputs": []
    },
    {
      "cell_type": "markdown",
      "source": [
        "**Invoke the Model by passing Text and Print Resposne on the screen.**"
      ],
      "metadata": {
        "id": "Mn6ujXEmjvXe"
      }
    },
    {
      "cell_type": "code",
      "source": [
        "print(llm.invoke(text))"
      ],
      "metadata": {
        "colab": {
          "base_uri": "https://localhost:8080/"
        },
        "id": "xTLEXNQkjuP4",
        "outputId": "45f64bf9-b230-4f93-e668-93296f3b53fa"
      },
      "execution_count": 16,
      "outputs": [
        {
          "output_type": "stream",
          "name": "stdout",
          "text": [
            "Artificial intelligence (AI) is a rapidly evolving field encompassing the development of computer systems capable of performing tasks that typically require human intelligence.  These tasks include learning, reasoning, problem-solving, perception, and natural language understanding.  AI systems achieve this through algorithms and statistical models, learning from vast amounts of data to improve their performance over time.  While offering immense potential across numerous sectors, from healthcare to finance, AI also raises ethical concerns regarding bias, job displacement, and the potential for misuse.\n",
            "\n"
          ]
        }
      ]
    }
  ]
}